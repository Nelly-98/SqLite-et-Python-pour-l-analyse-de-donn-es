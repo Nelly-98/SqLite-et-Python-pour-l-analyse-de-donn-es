{
 "cells": [
  {
   "cell_type": "markdown",
   "id": "f76604c2",
   "metadata": {},
   "source": [
    "# Connexion à la Base de Données à l'aide de python"
   ]
  },
  {
   "cell_type": "code",
   "execution_count": 1,
   "id": "378fa9bf",
   "metadata": {},
   "outputs": [],
   "source": [
    "import sqlite3"
   ]
  },
  {
   "cell_type": "code",
   "execution_count": 7,
   "id": "079c4cdc",
   "metadata": {},
   "outputs": [],
   "source": [
    "# connect()\n",
    "connexion = sqlite3.connect('jobs.db/jobs.db')"
   ]
  },
  {
   "cell_type": "markdown",
   "id": "07c3ae93",
   "metadata": {},
   "source": [
    "# Créer un curseur et exécuter une requête SQL sur Python"
   ]
  },
  {
   "cell_type": "markdown",
   "id": "2e9c0500",
   "metadata": {},
   "source": [
    "###cursor() va nous permettre d'exécuter une requête auprès de la Base de données, va nous permettre également d'analyser les résultats de la base de données, de convertir les résultats en objet python, enfin stocker les résultats dans une variable locale"
   ]
  },
  {
   "cell_type": "code",
   "execution_count": 9,
   "id": "4912eb75",
   "metadata": {},
   "outputs": [],
   "source": [
    "t = () # ici est un tuple vide"
   ]
  },
  {
   "cell_type": "code",
   "execution_count": 10,
   "id": "9e57d110",
   "metadata": {},
   "outputs": [],
   "source": [
    "t = ('Pomme', 'Banane')"
   ]
  },
  {
   "cell_type": "code",
   "execution_count": 11,
   "id": "914f21cc",
   "metadata": {},
   "outputs": [
    {
     "name": "stdout",
     "output_type": "stream",
     "text": [
      "Pomme\n"
     ]
    }
   ],
   "source": [
    "apple = t[0]\n",
    "print(apple)"
   ]
  },
  {
   "cell_type": "code",
   "execution_count": 12,
   "id": "ae31384e",
   "metadata": {},
   "outputs": [
    {
     "name": "stdout",
     "output_type": "stream",
     "text": [
      "Banane\n"
     ]
    }
   ],
   "source": [
    "banane = t[1]\n",
    "print(banane)"
   ]
  },
  {
   "cell_type": "code",
   "execution_count": 13,
   "id": "94e5f966",
   "metadata": {},
   "outputs": [],
   "source": [
    "cursor = connexion.cursor()"
   ]
  },
  {
   "cell_type": "code",
   "execution_count": 14,
   "id": "1537f3ef",
   "metadata": {},
   "outputs": [],
   "source": [
    "# requête SQL qu'on assigne à la variable query en tant que chaîne de caractères\n",
    "query = \"select * from recent_grads;\""
   ]
  },
  {
   "cell_type": "code",
   "execution_count": 15,
   "id": "9eae9683",
   "metadata": {},
   "outputs": [
    {
     "data": {
      "text/plain": [
       "<sqlite3.Cursor at 0x23bd9e03e30>"
      ]
     },
     "execution_count": 15,
     "metadata": {},
     "output_type": "execute_result"
    }
   ],
   "source": [
    "#exécute la requête SQL situé dans la variable query et ce curseur convertit les résultats en tuples et stocke dans une \n",
    "#variable locale\n",
    "cursor.execute(query)"
   ]
  },
  {
   "cell_type": "code",
   "execution_count": 16,
   "id": "9f194b0b",
   "metadata": {},
   "outputs": [],
   "source": [
    "#Chercher tous les résultats qu'on a récupéré sous la forme d'une liste de tuples et qu'on assigne à la variable results\n",
    "results = cursor.fetchall()"
   ]
  },
  {
   "cell_type": "code",
   "execution_count": 17,
   "id": "e41a5b3a",
   "metadata": {},
   "outputs": [],
   "source": [
    "#list_of_tuples =[(1,2,3), ('été','printemps'), ....]"
   ]
  },
  {
   "cell_type": "code",
   "execution_count": 18,
   "id": "91ecef02",
   "metadata": {},
   "outputs": [
    {
     "name": "stdout",
     "output_type": "stream",
     "text": [
      "[(0, 1, 2419, 'PETROLEUM ENGINEERING', 'Engineering', 2339, 36, 2057, 282, 0.120564344, 1976, 1849, 270, 1207, 37, 0.018380527, 110000, 95000, 125000, 1534, 364, 193), (1, 2, 2416, 'MINING AND MINERAL ENGINEERING', 'Engineering', 756, 7, 679, 77, 0.10185185199999999, 640, 556, 170, 388, 85, 0.117241379, 75000, 55000, 90000, 350, 257, 50), (2, 3, 2415, 'METALLURGICAL ENGINEERING', 'Engineering', 856, 3, 725, 131, 0.153037383, 648, 558, 133, 340, 16, 0.024096386, 73000, 50000, 105000, 456, 176, 0), (3, 4, 2417, 'NAVAL ARCHITECTURE AND MARINE ENGINEERING', 'Engineering', 1258, 16, 1123, 135, 0.107313196, 758, 1069, 150, 692, 40, 0.050125313, 70000, 43000, 80000, 529, 102, 0), (4, 5, 2405, 'CHEMICAL ENGINEERING', 'Engineering', 32260, 289, 21239, 11021, 0.341630502, 25694, 23170, 5180, 16697, 1672, 0.061097712, 65000, 50000, 75000, 18314, 4440, 972)]\n"
     ]
    }
   ],
   "source": [
    "print(results[0:5])"
   ]
  },
  {
   "cell_type": "markdown",
   "id": "0beef20e",
   "metadata": {},
   "source": [
    "# Chercher un certain nombre de résultats"
   ]
  },
  {
   "cell_type": "code",
   "execution_count": 19,
   "id": "00a78c3b",
   "metadata": {},
   "outputs": [],
   "source": [
    "# fetchone()\n",
    "# fetchmany(n)"
   ]
  },
  {
   "cell_type": "code",
   "execution_count": 20,
   "id": "17219c5c",
   "metadata": {},
   "outputs": [
    {
     "data": {
      "text/plain": [
       "<sqlite3.Cursor at 0x23bd9e1b570>"
      ]
     },
     "execution_count": 20,
     "metadata": {},
     "output_type": "execute_result"
    }
   ],
   "source": [
    "import sqlite3\n",
    "connexion = sqlite3.connect(\"jobs.db/jobs.db\")\n",
    "cursor = connexion.cursor()\n",
    "query = 'select Major, Major_category from recent_grads;'\n",
    "cursor.execute(query)"
   ]
  },
  {
   "cell_type": "code",
   "execution_count": 21,
   "id": "a4d6b1b0",
   "metadata": {},
   "outputs": [
    {
     "name": "stdout",
     "output_type": "stream",
     "text": [
      "('PETROLEUM ENGINEERING', 'Engineering')\n",
      "('MINING AND MINERAL ENGINEERING', 'Engineering')\n"
     ]
    }
   ],
   "source": [
    "first_result = cursor.fetchone()\n",
    "second_result = cursor.fetchone()\n",
    "print(first_result)\n",
    "print(second_result)"
   ]
  },
  {
   "cell_type": "code",
   "execution_count": 22,
   "id": "d7093387",
   "metadata": {},
   "outputs": [
    {
     "name": "stdout",
     "output_type": "stream",
     "text": [
      "[('METALLURGICAL ENGINEERING', 'Engineering'), ('NAVAL ARCHITECTURE AND MARINE ENGINEERING', 'Engineering'), ('CHEMICAL ENGINEERING', 'Engineering'), ('NUCLEAR ENGINEERING', 'Engineering'), ('ACTUARIAL SCIENCE', 'Business')]\n"
     ]
    }
   ],
   "source": [
    "next_five_results = cursor.fetchmany(5)\n",
    "print(next_five_results)"
   ]
  },
  {
   "cell_type": "markdown",
   "id": "45c358a3",
   "metadata": {},
   "source": [
    "# Stopper la connexion à la base de données"
   ]
  },
  {
   "cell_type": "code",
   "execution_count": 23,
   "id": "e39619f0",
   "metadata": {},
   "outputs": [],
   "source": [
    "# close()"
   ]
  },
  {
   "cell_type": "code",
   "execution_count": 25,
   "id": "c79b5cc2",
   "metadata": {},
   "outputs": [],
   "source": [
    "connexion.close()"
   ]
  },
  {
   "cell_type": "markdown",
   "id": "2bc32e32",
   "metadata": {},
   "source": [
    "# Utliser python avec sqlite (on utilisera pour cette partie la base de données factbook.db"
   ]
  },
  {
   "cell_type": "code",
   "execution_count": 2,
   "id": "9f9c12d8",
   "metadata": {},
   "outputs": [
    {
     "name": "stdout",
     "output_type": "stream",
     "text": [
      "[(198, 'at', 'Ashmore and Cartier Islands', 5, 5, 0, None, None, None, None, None, '2015-11-01 13:36:08.110412', '2015-11-01 13:36:08.110412'), (201, 'cr', 'Coral Sea Islands', 3, 3, 0, None, None, None, None, None, '2015-11-01 13:36:14.538308', '2015-11-01 13:36:14.538308'), (202, 'hm', 'Heard Island and McDonald Islands', 412, 412, 0, None, None, None, None, None, '2015-11-01 13:36:16.132554', '2015-11-01 13:36:16.132554'), (208, 'ip', 'Clipperton Island', 6, 6, 0, None, None, None, None, None, '2015-11-01 13:36:36.882778', '2015-11-01 13:36:36.882778'), (210, 'fs', 'French Southern and Antarctic Lands', None, None, None, None, None, None, None, None, '2015-11-01 13:36:43.532683', '2015-11-01 13:36:43.532683'), (222, 'bv', 'Bouvet Island', 49, 49, 0, None, None, None, None, None, '2015-11-01 13:37:20.214829', '2015-11-01 13:37:20.214829'), (223, 'jn', 'Jan Mayen', 377, 377, 0, None, None, None, None, None, '2015-11-01 13:37:21.875600', '2015-11-01 13:37:21.875600'), (228, 'io', 'British Indian Ocean Territory', 54400, 60, 54340, None, None, None, None, None, '2015-11-01 13:37:35.922896', '2015-11-01 13:37:35.922896'), (240, 'sx', 'South Georgia and South Sandwich Islands', 3903, 3903, 0, None, None, None, None, None, '2015-11-01 13:38:13.551151', '2015-11-01 13:38:13.551151'), (244, 'bq', 'Navassa Island', 5, 5, 0, None, None, None, None, None, '2015-11-01 13:38:26.425234', '2015-11-01 13:38:26.425234')]\n"
     ]
    }
   ],
   "source": [
    "import sqlite3\n",
    "connexion = sqlite3.connect(\"factbook.db/factbook.db\")\n",
    "c = connexion.cursor()\n",
    "c.execute(\"select * from facts order by population asc limit 10;\")\n",
    "result = c.fetchall()\n",
    "print(result)"
   ]
  },
  {
   "cell_type": "markdown",
   "id": "6cee4b67",
   "metadata": {},
   "source": [
    "# Calculer une estimation de la populaion en 2050"
   ]
  },
  {
   "cell_type": "code",
   "execution_count": 12,
   "id": "25ac9d42",
   "metadata": {},
   "outputs": [],
   "source": [
    "import pandas as pd\n",
    "import math\n",
    "import sqlite3\n",
    "\n",
    "connexion = sqlite3.connect(\"factbook.db/factbook.db\")"
   ]
  },
  {
   "cell_type": "code",
   "execution_count": 5,
   "id": "b8ed0ca2",
   "metadata": {},
   "outputs": [
    {
     "name": "stdout",
     "output_type": "stream",
     "text": [
      "      id code            name       area  area_land  area_water    population  \\\n",
      "0      1   af     Afghanistan   652230.0   652230.0         0.0  3.256434e+07   \n",
      "1      2   al         Albania    28748.0    27398.0      1350.0  3.029278e+06   \n",
      "2      3   ag         Algeria  2381741.0  2381741.0         0.0  3.954217e+07   \n",
      "3      4   an         Andorra      468.0      468.0         0.0  8.558000e+04   \n",
      "4      5   ao          Angola  1246700.0  1246700.0         0.0  1.962535e+07   \n",
      "..   ...  ...             ...        ...        ...         ...           ...   \n",
      "256  257   zh  Atlantic Ocean        NaN        NaN         NaN           NaN   \n",
      "257  258   xo    Indian Ocean        NaN        NaN         NaN           NaN   \n",
      "258  259   zn   Pacific Ocean        NaN        NaN         NaN           NaN   \n",
      "259  260   oo  Southern Ocean        NaN        NaN         NaN           NaN   \n",
      "260  261   xx           World        NaN        NaN         NaN  7.256490e+09   \n",
      "\n",
      "     population_growth  birth_rate  death_rate  migration_rate  \\\n",
      "0                 2.32       38.57       13.89            1.51   \n",
      "1                 0.30       12.92        6.58            3.30   \n",
      "2                 1.84       23.67        4.31            0.92   \n",
      "3                 0.12        8.13        6.96            0.00   \n",
      "4                 2.78       38.78       11.49            0.46   \n",
      "..                 ...         ...         ...             ...   \n",
      "256                NaN         NaN         NaN             NaN   \n",
      "257                NaN         NaN         NaN             NaN   \n",
      "258                NaN         NaN         NaN             NaN   \n",
      "259                NaN         NaN         NaN             NaN   \n",
      "260               1.08       18.60        7.80             NaN   \n",
      "\n",
      "                     created_at                  updated_at  \n",
      "0    2015-11-01 13:19:49.461734  2015-11-01 13:19:49.461734  \n",
      "1    2015-11-01 13:19:54.431082  2015-11-01 13:19:54.431082  \n",
      "2    2015-11-01 13:19:59.961286  2015-11-01 13:19:59.961286  \n",
      "3    2015-11-01 13:20:03.659945  2015-11-01 13:20:03.659945  \n",
      "4    2015-11-01 13:20:08.625072  2015-11-01 13:20:08.625072  \n",
      "..                          ...                         ...  \n",
      "256  2015-11-01 13:39:01.255361  2015-11-01 13:39:01.255361  \n",
      "257  2015-11-01 13:39:02.723888  2015-11-01 13:39:02.723888  \n",
      "258  2015-11-01 13:39:04.179530  2015-11-01 13:39:04.179530  \n",
      "259  2015-11-01 13:39:05.806048  2015-11-01 13:39:05.806048  \n",
      "260  2015-11-01 13:39:09.910721  2015-11-01 13:39:09.910721  \n",
      "\n",
      "[261 rows x 13 columns]\n"
     ]
    }
   ],
   "source": [
    "# fonction de la librairie pandas qui va nous permettre de lire nos données dans un dataframe(une sorte de tableau)\n",
    "# Elle prend 2 paramètres : la requête sql et con qui est la variable de connexion\n",
    "a = pd.read_sql_query('select * from facts;', con = connexion)\n",
    "print(a)"
   ]
  },
  {
   "cell_type": "code",
   "execution_count": 6,
   "id": "4342d660",
   "metadata": {},
   "outputs": [],
   "source": [
    "# Utilisation d'une méthode permettant de rétirer les valeurs manquantes c'est la méthode dropna()\n",
    "# N = N0*e**(rt)\n",
    "# N est la population finale qu'on calcule\n",
    "# N0 est la population initiale\n",
    "# e est une constante\n",
    "# r est le taux de croissance annuelle\n",
    "# t est le nombre d'années entre l'estimation et l'initiale\n",
    "\n",
    "# exemple, on a 5000 habitants, le taux de croissance r de 4% 2015 --> 2050, donc t = 2050 - 2015 = 35\n",
    "# d'ou N = 5000*e**(0.04*35)\n",
    "\n",
    "# définition de la fonction qui calcule une estimation de la population en 2015\n",
    "def pop_growth(x):\n",
    "    return x['population'] * math.e ** ((x['population_growth']/100) * 35)"
   ]
  },
  {
   "cell_type": "code",
   "execution_count": 7,
   "id": "95ff3cce",
   "metadata": {},
   "outputs": [],
   "source": [
    "# Application de la fonction pop_growth à chaque pays + créatio d'une colonne pop_2050 qui va contenir les résultats\n",
    "a['pop_2050'] = a.apply(lambda row: pop_growth(row), axis=1)"
   ]
  },
  {
   "cell_type": "code",
   "execution_count": 8,
   "id": "dc083f9b",
   "metadata": {},
   "outputs": [],
   "source": [
    "# Suppression des lignes contenant des valeurs manquantes\n",
    "a = a.dropna(axis = 0)"
   ]
  },
  {
   "cell_type": "code",
   "execution_count": 9,
   "id": "87079edf",
   "metadata": {},
   "outputs": [],
   "source": [
    "# On filtre les pays qui ont une surface terrestre > 0 et une population > 0\n",
    "a = a[(a['area_land']>0) & (a['population']>0)]"
   ]
  },
  {
   "cell_type": "code",
   "execution_count": 17,
   "id": "6cc23d69",
   "metadata": {},
   "outputs": [],
   "source": [
    "# On trie les pays par population décroissante\n",
    "b = a.sort_values(['pop_2050'], ascending = [False])"
   ]
  },
  {
   "cell_type": "code",
   "execution_count": 18,
   "id": "211ffb8e",
   "metadata": {},
   "outputs": [
    {
     "name": "stdout",
     "output_type": "stream",
     "text": [
      "76                                 India\n",
      "36                                 China\n",
      "128                              Nigeria\n",
      "185                        United States\n",
      "77                             Indonesia\n",
      "131                             Pakistan\n",
      "13                            Bangladesh\n",
      "23                                Brazil\n",
      "39     Congo, Democratic Republic of the\n",
      "Name: name, dtype: object\n"
     ]
    }
   ],
   "source": [
    "# On assigne à la variable b les noms des pays correspondants limités à 10 valeurs\n",
    "b = b['name'].iloc[0:9]\n",
    "# On affiche b\n",
    "print(b)"
   ]
  },
  {
   "cell_type": "markdown",
   "id": "4a19c063",
   "metadata": {},
   "source": [
    "# - Calcul du Ratio"
   ]
  },
  {
   "cell_type": "markdown",
   "id": "42808194",
   "metadata": {},
   "source": [
    "## Objectif est de calculer le ratio de la surface terrestre totale Sur la surface des océans totale appartenant aux pays de la table facts"
   ]
  },
  {
   "cell_type": "code",
   "execution_count": 20,
   "id": "fb46132b",
   "metadata": {},
   "outputs": [],
   "source": [
    "import pandas as pd\n",
    "import sqlite3 \n",
    "\n",
    "connexion = sqlite3.connect('factbook.db/factbook.db')"
   ]
  },
  {
   "cell_type": "code",
   "execution_count": 21,
   "id": "ba127738",
   "metadata": {},
   "outputs": [],
   "source": [
    "# On affiche dans un tableau pandas les sommes des surfaces terrestres et surfaces de l'eau pour chaque pays\n",
    "a = pd.read_sql_query('select sum(area_land), sum(area_water) from facts where area_land != \"\";', con = connexion)"
   ]
  },
  {
   "cell_type": "code",
   "execution_count": 22,
   "id": "ef22f2c5",
   "metadata": {},
   "outputs": [
    {
     "name": "stdout",
     "output_type": "stream",
     "text": [
      "0    28.390657\n",
      "dtype: float64\n"
     ]
    }
   ],
   "source": [
    "# On affiche le ratio Terre / Mer\n",
    "print(a['sum(area_land)']/a['sum(area_water)'])"
   ]
  },
  {
   "cell_type": "markdown",
   "id": "2685382c",
   "metadata": {},
   "source": [
    "# - Valeurs MIN et MAX"
   ]
  },
  {
   "cell_type": "code",
   "execution_count": 23,
   "id": "f67f2f64",
   "metadata": {},
   "outputs": [
    {
     "name": "stdout",
     "output_type": "stream",
     "text": [
      "[(0.0,)]\n"
     ]
    }
   ],
   "source": [
    "import sqlite3\n",
    "\n",
    "connexion = sqlite3.connect('factbook.db/factbook.db')\n",
    "\n",
    "tuple_pop_growth = connexion.execute(\"select min(population_growth) from facts;\").fetchall()\n",
    "print(tuple_pop_growth)"
   ]
  },
  {
   "cell_type": "code",
   "execution_count": 24,
   "id": "dcd994d6",
   "metadata": {},
   "outputs": [
    {
     "name": "stdout",
     "output_type": "stream",
     "text": [
      "0.0\n"
     ]
    }
   ],
   "source": [
    "min_pop_growth = tuple_pop_growth[0][0]\n",
    "print(min_pop_growth)"
   ]
  },
  {
   "cell_type": "code",
   "execution_count": 25,
   "id": "eba85fbd",
   "metadata": {},
   "outputs": [
    {
     "name": "stdout",
     "output_type": "stream",
     "text": [
      "[(14.89,)]\n"
     ]
    }
   ],
   "source": [
    "tuple_death_rate = connexion.execute(\"select max(death_rate) from facts;\").fetchall()\n",
    "print(tuple_death_rate)"
   ]
  },
  {
   "cell_type": "code",
   "execution_count": 26,
   "id": "eb408c12",
   "metadata": {},
   "outputs": [
    {
     "name": "stdout",
     "output_type": "stream",
     "text": [
      "14.89\n"
     ]
    }
   ],
   "source": [
    "max_death_rate = tuple_death_rate[0][0]\n",
    "print(max_death_rate)"
   ]
  },
  {
   "cell_type": "markdown",
   "id": "fa64d865",
   "metadata": {},
   "source": [
    "# - Compter le nombre de Ligne"
   ]
  },
  {
   "cell_type": "code",
   "execution_count": 27,
   "id": "aa342445",
   "metadata": {},
   "outputs": [
    {
     "name": "stdout",
     "output_type": "stream",
     "text": [
      "[(228,)]\n"
     ]
    }
   ],
   "source": [
    "import sqlite3\n",
    "\n",
    "connexion = sqlite3.connect('factbook.db/factbook.db')\n",
    "\n",
    "birth_rate_tuple = connexion.execute(\"select count (birth_rate) from facts;\").fetchall()\n",
    "print(birth_rate_tuple)"
   ]
  },
  {
   "cell_type": "code",
   "execution_count": 28,
   "id": "3a509a07",
   "metadata": {},
   "outputs": [
    {
     "name": "stdout",
     "output_type": "stream",
     "text": [
      "228\n"
     ]
    }
   ],
   "source": [
    "birth_rate_count = birth_rate_tuple[0][0]\n",
    "print(birth_rate_count)"
   ]
  },
  {
   "cell_type": "markdown",
   "id": "9a99a333",
   "metadata": {},
   "source": [
    "# - Calcule des sommes et des moyennes "
   ]
  },
  {
   "cell_type": "code",
   "execution_count": 29,
   "id": "75c18257",
   "metadata": {},
   "outputs": [],
   "source": [
    "import sqlite3\n",
    "\n",
    "connexion = sqlite3.connect('factbook.db/factbook.db')\n"
   ]
  },
  {
   "cell_type": "code",
   "execution_count": 32,
   "id": "fa6d1aeb",
   "metadata": {},
   "outputs": [
    {
     "name": "stdout",
     "output_type": "stream",
     "text": [
      "128584834\n"
     ]
    }
   ],
   "source": [
    "# Calcul de la Somme de la colonne area_land\n",
    "tuple_som_area_land = connexion.execute(\"select sum(area_land) from facts;\").fetchall()\n",
    "som_area_land = tuple_som_area_land[0][0]\n",
    "print(som_area_land)"
   ]
  },
  {
   "cell_type": "code",
   "execution_count": 33,
   "id": "11fc5658",
   "metadata": {},
   "outputs": [
    {
     "name": "stdout",
     "output_type": "stream",
     "text": [
      "19067.59259259259\n"
     ]
    }
   ],
   "source": [
    "# Calcul de la moyenne de la colonne area_water\n",
    "tuple_moy_area_water = connexion.execute(\"select avg(area_water) from facts;\").fetchall()\n",
    "moy_area_water = tuple_moy_area_water[0][0]\n",
    "print(moy_area_water)"
   ]
  },
  {
   "cell_type": "markdown",
   "id": "6fdbf0e7",
   "metadata": {},
   "source": [
    "# - Combiner plusieurs fonctions"
   ]
  },
  {
   "cell_type": "code",
   "execution_count": 34,
   "id": "e86c9419",
   "metadata": {},
   "outputs": [],
   "source": [
    "import sqlite3\n",
    "\n",
    "connexion = sqlite3.connect('factbook.db/factbook.db')"
   ]
  },
  {
   "cell_type": "code",
   "execution_count": 35,
   "id": "b022f2df",
   "metadata": {},
   "outputs": [],
   "source": [
    "tuple_req = connexion.execute(\"select count(*),sum(death_rate), avg(population_growth) from facts;\").fetchall()"
   ]
  },
  {
   "cell_type": "code",
   "execution_count": 38,
   "id": "1e1e1760",
   "metadata": {},
   "outputs": [
    {
     "name": "stdout",
     "output_type": "stream",
     "text": [
      "261 1783.2500000000002 1.2009745762711865\n"
     ]
    }
   ],
   "source": [
    "req_count = tuple_req[0][0]\n",
    "req_sum = tuple_req[0][1]\n",
    "req_avg = tuple_req[0][2]\n",
    "print(req_count,req_sum,req_avg)"
   ]
  },
  {
   "cell_type": "code",
   "execution_count": 39,
   "id": "3258514a",
   "metadata": {},
   "outputs": [
    {
     "name": "stdout",
     "output_type": "stream",
     "text": [
      "   count(*)  sum(death_rate)  avg(population_growth)\n",
      "0       261          1783.25                1.200975\n"
     ]
    }
   ],
   "source": [
    "# Ici je veux afficher mon résultat dans un dataframe\n",
    "a = pd.read_sql_query('select count(*),sum(death_rate), avg(population_growth) from facts;', con = connexion)\n",
    "print(a)"
   ]
  },
  {
   "cell_type": "code",
   "execution_count": 40,
   "id": "7edc7dee",
   "metadata": {},
   "outputs": [
    {
     "name": "stdout",
     "output_type": "stream",
     "text": [
      "62094928.32231405 15026972654 45.45\n"
     ]
    }
   ],
   "source": [
    "# requête qui calcule la moyenne de la colonne population, la somme de la colonne population et donne le maximum de la colonne \n",
    "# birth_rate (tout ceci dans une requête)\n",
    "tuple_request = connexion.execute(\"select avg(population),sum(population), max(birth_rate) from facts;\").fetchall()\n",
    "request_avg = tuple_request[0][0]\n",
    "request_sum = tuple_request[0][1]\n",
    "request_max = tuple_request[0][2]\n",
    "print(request_avg,request_sum,request_max)"
   ]
  },
  {
   "cell_type": "code",
   "execution_count": 41,
   "id": "8c9aa357",
   "metadata": {},
   "outputs": [
    {
     "name": "stdout",
     "output_type": "stream",
     "text": [
      "   avg(population)  sum(population)  max(birth_rate)\n",
      "0     6.209493e+07      15026972654            45.45\n"
     ]
    }
   ],
   "source": [
    "# Ici je veux afficher mon résultat dans un dataframe\n",
    "a = pd.read_sql_query('select avg(population),sum(population), max(birth_rate) from facts;', con = connexion)\n",
    "print(a)"
   ]
  },
  {
   "cell_type": "markdown",
   "id": "47367801",
   "metadata": {},
   "source": [
    "# - Association des valeurs de calcul avec la condition where"
   ]
  },
  {
   "cell_type": "code",
   "execution_count": 43,
   "id": "b501e0ad",
   "metadata": {},
   "outputs": [
    {
     "name": "stdout",
     "output_type": "stream",
     "text": [
      "1.4572222222222226\n"
     ]
    }
   ],
   "source": [
    "# Ecrire une requête SQL qui calcule la moyenne de la colonne population_growth pour les pays ayant une population > 10000000 habitants\n",
    "request_tuple = connexion.execute(\"select avg(population_growth) from facts where population > 10000000;\").fetchall()\n",
    "request = request_tuple[0][0]\n",
    "print(request)"
   ]
  },
  {
   "cell_type": "markdown",
   "id": "8f1830e3",
   "metadata": {},
   "source": [
    "# - Selectionner des éléments ou données uniques"
   ]
  },
  {
   "cell_type": "code",
   "execution_count": 46,
   "id": "9a2bf4b2",
   "metadata": {},
   "outputs": [
    {
     "name": "stdout",
     "output_type": "stream",
     "text": [
      "[(38.57,), (12.92,), (23.67,), (8.13,), (38.78,), (15.85,), (16.64,), (13.61,), (12.15,), (9.41,), (15.5,), (13.66,), (21.14,), (11.87,), (10.7,), (11.41,), (24.68,), (36.02,), (17.78,), (22.76,), (8.87,), (20.96,), (14.46,), (17.32,), (8.92,), (42.03,), (18.39,), (42.01,), (23.83,), (36.17,), (10.28,), (20.33,), (35.08,), (36.6,), (13.83,), (12.49,), (16.47,), (27.84,), (34.88,), (35.85,), (15.91,), (28.67,), (9.45,), (9.9,), (9.63,), (10.27,), (23.65,), (15.41,), (18.73,), (18.51,), (22.9,), (16.46,), (33.31,), (30.0,), (10.51,), (37.27,), (19.43,), (10.72,), (12.38,), (34.49,), (30.86,), (12.74,), (8.47,), (31.09,), (8.66,), (16.03,), (24.89,), (35.74,), (33.38,), (15.59,), (22.31,), (23.14,), (9.16,), (13.91,), (19.55,), (16.72,), (17.99,), (31.45,), (14.84,), (18.48,), (8.74,), (18.16,), (7.93,), (25.37,), (19.15,), (26.4,), (21.46,), (14.52,), (8.19,), (None,), (19.91,), (22.98,), (24.25,), (10.0,), (14.59,), (25.47,), (34.41,), (18.03,), (10.45,), (10.1,), (11.37,), (11.55,), (32.61,), (41.56,), (19.71,), (15.75,), (44.99,), (10.18,), (25.6,), (31.34,), (13.29,), (18.78,), (20.54,), (12.0,), (6.65,), (20.25,), (10.42,), (18.2,), (38.58,), (19.8,), (24.95,), (20.64,), (10.83,), (13.33,), (45.45,), (37.64,), (12.14,), (24.44,), (22.58,), (11.05,), (18.32,), (24.38,), (16.37,), (18.28,), (24.27,), (9.74,), (9.27,), (9.84,), (9.14,), (11.6,), (33.75,), (13.5,), (13.7,), (13.57,), (20.87,), (8.63,), (34.23,), (34.52,), (9.08,), (14.19,), (37.03,), (8.27,), (9.91,), (8.42,), (25.77,), (40.45,), (20.75,), (36.91,), (9.64,), (29.19,), (16.34,), (24.67,), (11.99,), (10.5,), (22.17,), (36.39,), (11.19,), (34.16,), (34.13,), (23.0,), (13.46,), (16.33,), (19.4,), (23.74,), (43.79,), (15.43,), (12.17,), (13.07,), (17.0,), (25.04,), (19.16,), (15.96,), (29.98,), (42.13,), (32.26,), (10.2,), (9.23,), (8.88,), (13.77,), (14.48,), (15.22,), (15.33,), (7.42,), (13.45,), (12.56,), (13.8,), (13.0,), (14.33,), (12.67,), (11.33,), (10.91,), (12.11,), (10.9,), (14.08,), (11.91,), (11.1,), (11.26,), (9.88,), (16.13,), (22.89,), (16.82,), (10.86,), (10.31,), (31.11,), (22.99,), (30.24,), (18.6,)]\n"
     ]
    }
   ],
   "source": [
    "unique_birth_rate = connexion.execute(\"select distinct birth_rate from facts;\").fetchall()\n",
    "print(unique_birth_rate)"
   ]
  },
  {
   "cell_type": "markdown",
   "id": "adde370f",
   "metadata": {},
   "source": [
    "## Associer les fonctions de calcul avec DISTINCT\n"
   ]
  },
  {
   "cell_type": "code",
   "execution_count": 51,
   "id": "3fe8f8b0",
   "metadata": {},
   "outputs": [
    {
     "name": "stdout",
     "output_type": "stream",
     "text": [
      "   avg(distinct birth_rate)\n",
      "0                 20.434737\n"
     ]
    }
   ],
   "source": [
    "# Ici on calcule la moyenne des valeurs distinctes de la colonne birth_rate pour lesquelles population>20000000 \n",
    "# là je stock le résultat dans un dataframe\n",
    "unique = pd.read_sql_query('select avg(distinct birth_rate) from facts where population > 20000000;', con = connexion)\n",
    "print(unique)"
   ]
  },
  {
   "cell_type": "code",
   "execution_count": 53,
   "id": "9120dca5",
   "metadata": {},
   "outputs": [
    {
     "name": "stdout",
     "output_type": "stream",
     "text": [
      "4233873015\n"
     ]
    }
   ],
   "source": [
    "# Calcul de la somme de toutes les valeurs distinctes de la colonne population pour lesquelles area_land > 1000000\n",
    "# là je stock le résultat dans un tuple\n",
    "unique = connexion.execute(\"select sum(distinct population) from facts where area_land > 1000000;\").fetchall()\n",
    "u = unique[0][0]\n",
    "print(u)"
   ]
  },
  {
   "cell_type": "markdown",
   "id": "1d995e21",
   "metadata": {},
   "source": [
    "# Opération mathématique en SQL"
   ]
  },
  {
   "cell_type": "code",
   "execution_count": 61,
   "id": "47d5a028",
   "metadata": {},
   "outputs": [
    {
     "name": "stdout",
     "output_type": "stream",
     "text": [
      "[(2.32e-06,), (3e-07,), (1.8400000000000002e-06,), (1.2e-07,), (2.7799999999999996e-06,), (1.24e-06,), (9.300000000000001e-07,), (1.5e-07,), (1.0700000000000001e-06,), (5.5e-07,), (9.6e-07,), (8.5e-07,), (2.4100000000000002e-06,), (1.6000000000000001e-06,), (3.1e-07,), (2.0000000000000002e-07,), (7.6e-07,), (1.87e-06,), (2.7799999999999996e-06,), (1.1100000000000002e-06,), (1.56e-06,), (1.3e-07,), (1.21e-06,), (7.7e-07,), (1.6200000000000002e-06,), (5.8e-07,), (3.03e-06,), (1.01e-06,), (3.28e-06,), (1.5800000000000001e-06,), (2.5899999999999998e-06,), (7.5e-07,), (1.3600000000000001e-06,), (2.13e-06,), (1.89e-06,), (8.2e-07,), (4.5000000000000003e-07,), (1.04e-06,), (1.77e-06,), (2.4500000000000003e-06,), (2e-06,), (1.22e-06,), (1.91e-06,), (1.3e-07,), (1.5e-07,), (1.4299999999999999e-06,), (1.6e-07,), (2.2e-07,), (2.2e-06,), (2.1e-07,), (1.23e-06,), (1.35e-06,), (1.79e-06,), (2.5e-07,), (2.5099999999999997e-06,), (2.25e-06,), (5.5e-07,), (2.8900000000000003e-06,), (6.7e-07,), (4.0000000000000003e-07,), (4.3e-07,), (1.9299999999999997e-06,), (2.16e-06,), (8e-08,), (1.7000000000000001e-07,), (2.1800000000000003e-06,), (1e-08,), (4.8e-07,), (1.8200000000000002e-06,), (2.63e-06,), (1.91e-06,), (2e-08,), (1.17e-06,), (1.68e-06,), (2.2e-07,), (1.21e-06,), (1.22e-06,), (9.200000000000001e-07,), (1.2e-06,), (2.9300000000000003e-06,), (1.25e-06,), (1.56e-06,), (2.7e-07,), (6.800000000000001e-07,), (1.6e-07,), (8.3e-07,), (1.1399999999999999e-06,), (1.9299999999999997e-06,), (1.15e-06,), (5.3e-07,), (1.4e-07,), (None,), (1.6200000000000002e-06,), (1.1100000000000002e-06,), (1.55e-06,), (1.06e-06,), (8.6e-07,), (3.2e-07,), (2.47e-06,), (2.23e-06,), (8.4e-07,), (1.04e-06,), (2.13e-06,), (2.0000000000000002e-07,), (2.58e-06,), (3.32e-06,), (1.44e-06,), (8e-08,), (2.98e-06,), (3.1e-07,), (1.66e-06,), (2.23e-06,), (6.4e-07,), (1.18e-06,), (4.6000000000000004e-07,), (1.03e-06,), (1.2e-07,), (1.31e-06,), (4.2e-07,), (1e-06,), (2.4500000000000003e-06,), (5.9e-07,), (5.5e-07,), (1.79e-06,), (4.1e-07,), (8.2e-07,), (1e-06,), (3.25e-06,), (2.4500000000000003e-06,), (1.13e-06,), (2.0699999999999997e-06,), (1.46e-06,), (3.8e-07,), (1.32e-06,), (1.7800000000000001e-06,), (1.16e-06,), (9.7e-07,), (1.61e-06,), (9e-08,), (9e-08,), (3.07e-06,), (3e-07,), (4e-08,), (2.56e-06,), (7.6e-07,), (3.4000000000000003e-07,), (2.8e-07,), (5.8e-07,), (8.2e-07,), (1.8400000000000002e-06,), (1.46e-06,), (2.4500000000000003e-06,), (4.6000000000000004e-07,), (8.3e-07,), (2.35e-06,), (1.89e-06,), (2e-08,), (2.6e-07,), (2.02e-06,), (1.83e-06,), (1.33e-06,), (4.02e-06,), (8.900000000000001e-07,), (8.4e-07,), (1.72e-06,), (1.08e-06,), (1.1100000000000002e-06,), (8.000000000000001e-07,), (7.1e-07,), (1.6e-07,), (1.71e-06,), (2.79e-06,), (3.4000000000000003e-07,), (2.42e-06,), (2.69e-06,), (3e-08,), (1.3e-07,), (8.900000000000001e-07,), (1.26e-06,), (1.1399999999999999e-06,), (8.2e-07,), (3.2400000000000003e-06,), (6e-07,), (2.58e-06,), (5.4e-07,), (7.8e-07,), (2.7e-07,), (9.300000000000001e-07,), (1.95e-06,), (0.0,), (1.3899999999999998e-06,), (9.7e-07,), (2.47e-06,), (2.88e-06,), (2.21e-06,), (2.3000000000000002e-07,), (2.5e-07,), (None,), (1.1100000000000002e-06,), (0.0,), (None,), (None,), (1e-08,), (3.8e-07,), (8.000000000000001e-07,), (5.1e-07,), (0.0,), (None,), (9.399999999999999e-07,), (None,), (1.38e-06,), (None,), (None,), (1.08e-06,), (3.3e-07,), (1.33e-06,), (4.3e-07,), (1.51e-06,), (2.95e-06,), (3e-08,), (1e-08,), (None,), (None,), (3e-08,), (None,), (2.0299999999999996e-06,), (5e-07,), (None,), (2.32e-06,), (2.1000000000000002e-06,), (None,), (1e-08,), (2.4e-07,), (3.4000000000000003e-07,), (8.000000000000001e-07,), (7.6e-07,), (5e-07,), (0.0,), (2.4e-07,), (None,), (2.3e-06,), (3e-07,), (5.4e-07,), (None,), (2.1800000000000003e-06,), (6e-07,), (5.9e-07,), (None,), (None,), (None,), (2.81e-06,), (None,), (None,), (1.95e-06,), (2.8199999999999997e-06,), (None,), (None,), (None,), (None,), (None,), (1.08e-06,)]\n"
     ]
    }
   ],
   "source": [
    "# Afficher les valeurs de la colonne population_growth en millions (décimales)\n",
    "population = connexion.execute(\"select population_growth / 1000000.0 from facts;\").fetchall()\n",
    "print(population)"
   ]
  },
  {
   "cell_type": "markdown",
   "id": "8f4d1124",
   "metadata": {},
   "source": [
    "# Exécuter des opérations mathématiques entre colonnes"
   ]
  },
  {
   "cell_type": "code",
   "execution_count": 62,
   "id": "b16c2613",
   "metadata": {},
   "outputs": [
    {
     "name": "stdout",
     "output_type": "stream",
     "text": [
      "     (population_growth*population)+population\n",
      "0                                 1.081136e+08\n",
      "1                                 3.938061e+06\n",
      "2                                 1.122998e+08\n",
      "3                                 9.584960e+04\n",
      "4                                 7.418383e+07\n",
      "..                                         ...\n",
      "256                                        NaN\n",
      "257                                        NaN\n",
      "258                                        NaN\n",
      "259                                        NaN\n",
      "260                               1.509350e+10\n",
      "\n",
      "[261 rows x 1 columns]\n"
     ]
    }
   ],
   "source": [
    "# Calculer pour chaque pays le nombre d'habitants qu'il y aura l'année suivante\n",
    "habitant = pd.read_sql_query('select (population_growth*population)+population from facts;', con = connexion)\n",
    "print(habitant)"
   ]
  },
  {
   "cell_type": "code",
   "execution_count": null,
   "id": "f2361be9",
   "metadata": {},
   "outputs": [],
   "source": []
  }
 ],
 "metadata": {
  "kernelspec": {
   "display_name": "Python 3 (ipykernel)",
   "language": "python",
   "name": "python3"
  },
  "language_info": {
   "codemirror_mode": {
    "name": "ipython",
    "version": 3
   },
   "file_extension": ".py",
   "mimetype": "text/x-python",
   "name": "python",
   "nbconvert_exporter": "python",
   "pygments_lexer": "ipython3",
   "version": "3.9.7"
  }
 },
 "nbformat": 4,
 "nbformat_minor": 5
}
