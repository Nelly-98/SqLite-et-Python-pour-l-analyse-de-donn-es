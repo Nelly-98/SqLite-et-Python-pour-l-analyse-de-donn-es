{
 "cells": [
  {
   "cell_type": "markdown",
   "id": "74443a2c",
   "metadata": {},
   "source": [
    "# Connexion à PostgrSQL"
   ]
  },
  {
   "cell_type": "code",
   "execution_count": 103,
   "id": "26cd1b64",
   "metadata": {},
   "outputs": [],
   "source": [
    "import psycopg2"
   ]
  },
  {
   "cell_type": "code",
   "execution_count": 104,
   "id": "aa84de8f",
   "metadata": {},
   "outputs": [],
   "source": [
    "connexion = psycopg2.connect(dbname=\"postgres\", user=\"postgres\", password=\"root\")\n",
    "cursor = connexion.cursor()\n",
    "cursor.execute(\"CREATE TABLE notes(id integer PRIMARY KEY, body text, title text);\")\n",
    "connexion.close()"
   ]
  },
  {
   "cell_type": "code",
   "execution_count": 107,
   "id": "a89b6220",
   "metadata": {},
   "outputs": [
    {
     "name": "stdout",
     "output_type": "stream",
     "text": [
      "<cursor object at 0x000001CAAE5E5BA0; closed: 0>\n"
     ]
    }
   ],
   "source": [
    "connexion = psycopg2.connect(dbname=\"bank_accounts\", user=\"postgres\", password=\"root\")\n",
    "cursor = connexion.cursor()\n",
    "print(cursor)\n",
    "\n",
    "connexion.close()"
   ]
  },
  {
   "cell_type": "markdown",
   "id": "6a92e7d2",
   "metadata": {},
   "source": [
    "# Créer une table"
   ]
  },
  {
   "cell_type": "code",
   "execution_count": 108,
   "id": "d64238eb",
   "metadata": {},
   "outputs": [],
   "source": [
    "connexion = psycopg2.connect(dbname=\"bank_accounts\", user=\"postgres\", password=\"root\")\n",
    "cursor = connexion.cursor()\n",
    "cursor.execute(\"create table notes(id integer primary key, body text, title text);\")\n",
    "connexion.close()"
   ]
  },
  {
   "cell_type": "markdown",
   "id": "5ed8a535",
   "metadata": {},
   "source": [
    "## Transactions en SQL"
   ]
  },
  {
   "cell_type": "code",
   "execution_count": 109,
   "id": "969237d3",
   "metadata": {},
   "outputs": [],
   "source": [
    "# commit()\n",
    "\n",
    "connexion = psycopg2.connect(dbname=\"bank_accounts\", user=\"postgres\", password=\"root\")\n",
    "cursor = connexion.cursor()\n",
    "cursor.execute(\"create table notes(id integer primary key, body text, title text);\")\n",
    "connexion.commit()\n",
    "connexion.close()"
   ]
  },
  {
   "cell_type": "markdown",
   "id": "6eb06f1e",
   "metadata": {},
   "source": [
    "## Commit automatique"
   ]
  },
  {
   "cell_type": "code",
   "execution_count": 110,
   "id": "05ff2d88",
   "metadata": {},
   "outputs": [],
   "source": [
    "connexion = psycopg2.connect(dbname=\"bank_accounts\", user=\"postgres\", password=\"root\")\n",
    "# Activation autocommit\n",
    "connexion.autocommit = True\n",
    "cursor = connexion.cursor()\n",
    "cursor.execute(\"create table deposits(id integer primary key, name text, amount float);\")\n",
    "connexion.close()"
   ]
  },
  {
   "cell_type": "markdown",
   "id": "45e5b9ae",
   "metadata": {},
   "source": [
    "## Exécuter des requêtes SQL"
   ]
  },
  {
   "cell_type": "code",
   "execution_count": 114,
   "id": "ed61a1dc",
   "metadata": {},
   "outputs": [
    {
     "name": "stdout",
     "output_type": "stream",
     "text": [
      "[(1, 'Ceci est notre première note', 'Titre Note')]\n"
     ]
    }
   ],
   "source": [
    "connexion = psycopg2.connect(dbname=\"bank_accounts\", user=\"postgres\", password=\"root\")\n",
    "connexion.autocommit = True\n",
    "cursor = connexion.cursor()\n",
    "cursor.execute(\"insert into notes values(1,'Ceci est notre première note', 'Titre Note');\")\n",
    "cursor.execute(\"select * from notes;\")\n",
    "rows = cursor.fetchall()\n",
    "print(rows)"
   ]
  },
  {
   "cell_type": "markdown",
   "id": "4448b6a6",
   "metadata": {},
   "source": [
    "## Créer des bases de données"
   ]
  },
  {
   "cell_type": "code",
   "execution_count": 115,
   "id": "55981ce4",
   "metadata": {},
   "outputs": [],
   "source": [
    "connexion = psycopg2.connect(dbname=\"bank_accounts\", user=\"postgres\", password=\"root\")\n",
    "connexion.autocommit = True\n",
    "cursor = connexion.cursor()\n",
    "cursor.execute(\"create database income owner postgres;\")\n"
   ]
  },
  {
   "cell_type": "code",
   "execution_count": 116,
   "id": "c79e239a",
   "metadata": {},
   "outputs": [],
   "source": [
    "connexion.close()"
   ]
  },
  {
   "cell_type": "markdown",
   "id": "4c6d3563",
   "metadata": {},
   "source": [
    "## Suppression de Bases de données"
   ]
  },
  {
   "cell_type": "code",
   "execution_count": 119,
   "id": "24a5cffd",
   "metadata": {},
   "outputs": [],
   "source": [
    "connexion = psycopg2.connect(dbname=\"bank_accounts\", user=\"postgres\", password=\"root\")\n",
    "connexion.autocommit = True\n",
    "cursor = connexion.cursor()\n",
    "cursor.execute(\"drop database income;\")\n",
    "connexion.close()"
   ]
  },
  {
   "cell_type": "code",
   "execution_count": null,
   "id": "e7befbf4",
   "metadata": {},
   "outputs": [],
   "source": []
  }
 ],
 "metadata": {
  "kernelspec": {
   "display_name": "Python 3 (ipykernel)",
   "language": "python",
   "name": "python3"
  },
  "language_info": {
   "codemirror_mode": {
    "name": "ipython",
    "version": 3
   },
   "file_extension": ".py",
   "mimetype": "text/x-python",
   "name": "python",
   "nbconvert_exporter": "python",
   "pygments_lexer": "ipython3",
   "version": "3.9.7"
  }
 },
 "nbformat": 4,
 "nbformat_minor": 5
}
