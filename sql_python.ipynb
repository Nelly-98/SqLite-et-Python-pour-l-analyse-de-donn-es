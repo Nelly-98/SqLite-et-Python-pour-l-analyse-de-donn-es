{
 "cells": [
  {
   "cell_type": "markdown",
   "id": "f76604c2",
   "metadata": {},
   "source": [
    "# Connexion à la Base de Données à l'aide de python"
   ]
  },
  {
   "cell_type": "code",
   "execution_count": 1,
   "id": "378fa9bf",
   "metadata": {},
   "outputs": [],
   "source": [
    "import sqlite3"
   ]
  },
  {
   "cell_type": "code",
   "execution_count": 7,
   "id": "079c4cdc",
   "metadata": {},
   "outputs": [],
   "source": [
    "# connect()\n",
    "connexion = sqlite3.connect('jobs.db/jobs.db')"
   ]
  },
  {
   "cell_type": "markdown",
   "id": "07c3ae93",
   "metadata": {},
   "source": [
    "# Créer un curseur et exécuter une requête SQL sur Python"
   ]
  },
  {
   "cell_type": "markdown",
   "id": "2e9c0500",
   "metadata": {},
   "source": [
    "###cursor() va nous permettre d'exécuter une requête auprès de la Base de données, va nous permettre également d'analyser les résultats de la base de données, de convertir les résultats en objet python, enfin stocker les résultats dans une variable locale"
   ]
  },
  {
   "cell_type": "code",
   "execution_count": 9,
   "id": "4912eb75",
   "metadata": {},
   "outputs": [],
   "source": [
    "t = () # ici est un tuple vide"
   ]
  },
  {
   "cell_type": "code",
   "execution_count": 10,
   "id": "9e57d110",
   "metadata": {},
   "outputs": [],
   "source": [
    "t = ('Pomme', 'Banane')"
   ]
  },
  {
   "cell_type": "code",
   "execution_count": 11,
   "id": "914f21cc",
   "metadata": {},
   "outputs": [
    {
     "name": "stdout",
     "output_type": "stream",
     "text": [
      "Pomme\n"
     ]
    }
   ],
   "source": [
    "apple = t[0]\n",
    "print(apple)"
   ]
  },
  {
   "cell_type": "code",
   "execution_count": 12,
   "id": "ae31384e",
   "metadata": {},
   "outputs": [
    {
     "name": "stdout",
     "output_type": "stream",
     "text": [
      "Banane\n"
     ]
    }
   ],
   "source": [
    "banane = t[1]\n",
    "print(banane)"
   ]
  },
  {
   "cell_type": "code",
   "execution_count": 13,
   "id": "94e5f966",
   "metadata": {},
   "outputs": [],
   "source": [
    "cursor = connexion.cursor()"
   ]
  },
  {
   "cell_type": "code",
   "execution_count": 14,
   "id": "1537f3ef",
   "metadata": {},
   "outputs": [],
   "source": [
    "# requête SQL qu'on assigne à la variable query en tant que chaîne de caractères\n",
    "query = \"select * from recent_grads;\""
   ]
  },
  {
   "cell_type": "code",
   "execution_count": 15,
   "id": "9eae9683",
   "metadata": {},
   "outputs": [
    {
     "data": {
      "text/plain": [
       "<sqlite3.Cursor at 0x23bd9e03e30>"
      ]
     },
     "execution_count": 15,
     "metadata": {},
     "output_type": "execute_result"
    }
   ],
   "source": [
    "#exécute la requête SQL situé dans la variable query et ce curseur convertit les résultats en tuples et stocke dans une \n",
    "#variable locale\n",
    "cursor.execute(query)"
   ]
  },
  {
   "cell_type": "code",
   "execution_count": 16,
   "id": "9f194b0b",
   "metadata": {},
   "outputs": [],
   "source": [
    "#Chercher tous les résultats qu'on a récupéré sous la forme d'une liste de tuples et qu'on assigne à la variable results\n",
    "results = cursor.fetchall()"
   ]
  },
  {
   "cell_type": "code",
   "execution_count": 17,
   "id": "e41a5b3a",
   "metadata": {},
   "outputs": [],
   "source": [
    "#list_of_tuples =[(1,2,3), ('été','printemps'), ....]"
   ]
  },
  {
   "cell_type": "code",
   "execution_count": 18,
   "id": "91ecef02",
   "metadata": {},
   "outputs": [
    {
     "name": "stdout",
     "output_type": "stream",
     "text": [
      "[(0, 1, 2419, 'PETROLEUM ENGINEERING', 'Engineering', 2339, 36, 2057, 282, 0.120564344, 1976, 1849, 270, 1207, 37, 0.018380527, 110000, 95000, 125000, 1534, 364, 193), (1, 2, 2416, 'MINING AND MINERAL ENGINEERING', 'Engineering', 756, 7, 679, 77, 0.10185185199999999, 640, 556, 170, 388, 85, 0.117241379, 75000, 55000, 90000, 350, 257, 50), (2, 3, 2415, 'METALLURGICAL ENGINEERING', 'Engineering', 856, 3, 725, 131, 0.153037383, 648, 558, 133, 340, 16, 0.024096386, 73000, 50000, 105000, 456, 176, 0), (3, 4, 2417, 'NAVAL ARCHITECTURE AND MARINE ENGINEERING', 'Engineering', 1258, 16, 1123, 135, 0.107313196, 758, 1069, 150, 692, 40, 0.050125313, 70000, 43000, 80000, 529, 102, 0), (4, 5, 2405, 'CHEMICAL ENGINEERING', 'Engineering', 32260, 289, 21239, 11021, 0.341630502, 25694, 23170, 5180, 16697, 1672, 0.061097712, 65000, 50000, 75000, 18314, 4440, 972)]\n"
     ]
    }
   ],
   "source": [
    "print(results[0:5])"
   ]
  },
  {
   "cell_type": "markdown",
   "id": "0beef20e",
   "metadata": {},
   "source": [
    "# Chercher un certain nombre de résultats"
   ]
  },
  {
   "cell_type": "code",
   "execution_count": 19,
   "id": "00a78c3b",
   "metadata": {},
   "outputs": [],
   "source": [
    "# fetchone()\n",
    "# fetchmany(n)"
   ]
  },
  {
   "cell_type": "code",
   "execution_count": 20,
   "id": "17219c5c",
   "metadata": {},
   "outputs": [
    {
     "data": {
      "text/plain": [
       "<sqlite3.Cursor at 0x23bd9e1b570>"
      ]
     },
     "execution_count": 20,
     "metadata": {},
     "output_type": "execute_result"
    }
   ],
   "source": [
    "import sqlite3\n",
    "connexion = sqlite3.connect(\"jobs.db/jobs.db\")\n",
    "cursor = connexion.cursor()\n",
    "query = 'select Major, Major_category from recent_grads;'\n",
    "cursor.execute(query)"
   ]
  },
  {
   "cell_type": "code",
   "execution_count": 21,
   "id": "a4d6b1b0",
   "metadata": {},
   "outputs": [
    {
     "name": "stdout",
     "output_type": "stream",
     "text": [
      "('PETROLEUM ENGINEERING', 'Engineering')\n",
      "('MINING AND MINERAL ENGINEERING', 'Engineering')\n"
     ]
    }
   ],
   "source": [
    "first_result = cursor.fetchone()\n",
    "second_result = cursor.fetchone()\n",
    "print(first_result)\n",
    "print(second_result)"
   ]
  },
  {
   "cell_type": "code",
   "execution_count": 22,
   "id": "d7093387",
   "metadata": {},
   "outputs": [
    {
     "name": "stdout",
     "output_type": "stream",
     "text": [
      "[('METALLURGICAL ENGINEERING', 'Engineering'), ('NAVAL ARCHITECTURE AND MARINE ENGINEERING', 'Engineering'), ('CHEMICAL ENGINEERING', 'Engineering'), ('NUCLEAR ENGINEERING', 'Engineering'), ('ACTUARIAL SCIENCE', 'Business')]\n"
     ]
    }
   ],
   "source": [
    "next_five_results = cursor.fetchmany(5)\n",
    "print(next_five_results)"
   ]
  },
  {
   "cell_type": "markdown",
   "id": "45c358a3",
   "metadata": {},
   "source": [
    "# Stopper la connexion à la base de données"
   ]
  },
  {
   "cell_type": "code",
   "execution_count": 23,
   "id": "e39619f0",
   "metadata": {},
   "outputs": [],
   "source": [
    "# close()"
   ]
  },
  {
   "cell_type": "code",
   "execution_count": 25,
   "id": "c79b5cc2",
   "metadata": {},
   "outputs": [],
   "source": [
    "connexion.close()"
   ]
  },
  {
   "cell_type": "markdown",
   "id": "8fe62270",
   "metadata": {},
   "source": [
    "# Utliser python avec sqlite (on utilisera pour cette partie la base de données factbook.db"
   ]
  },
  {
   "cell_type": "code",
   "execution_count": 2,
   "id": "3543abfa",
   "metadata": {},
   "outputs": [
    {
     "name": "stdout",
     "output_type": "stream",
     "text": [
      "[(198, 'at', 'Ashmore and Cartier Islands', 5, 5, 0, None, None, None, None, None, '2015-11-01 13:36:08.110412', '2015-11-01 13:36:08.110412'), (201, 'cr', 'Coral Sea Islands', 3, 3, 0, None, None, None, None, None, '2015-11-01 13:36:14.538308', '2015-11-01 13:36:14.538308'), (202, 'hm', 'Heard Island and McDonald Islands', 412, 412, 0, None, None, None, None, None, '2015-11-01 13:36:16.132554', '2015-11-01 13:36:16.132554'), (208, 'ip', 'Clipperton Island', 6, 6, 0, None, None, None, None, None, '2015-11-01 13:36:36.882778', '2015-11-01 13:36:36.882778'), (210, 'fs', 'French Southern and Antarctic Lands', None, None, None, None, None, None, None, None, '2015-11-01 13:36:43.532683', '2015-11-01 13:36:43.532683'), (222, 'bv', 'Bouvet Island', 49, 49, 0, None, None, None, None, None, '2015-11-01 13:37:20.214829', '2015-11-01 13:37:20.214829'), (223, 'jn', 'Jan Mayen', 377, 377, 0, None, None, None, None, None, '2015-11-01 13:37:21.875600', '2015-11-01 13:37:21.875600'), (228, 'io', 'British Indian Ocean Territory', 54400, 60, 54340, None, None, None, None, None, '2015-11-01 13:37:35.922896', '2015-11-01 13:37:35.922896'), (240, 'sx', 'South Georgia and South Sandwich Islands', 3903, 3903, 0, None, None, None, None, None, '2015-11-01 13:38:13.551151', '2015-11-01 13:38:13.551151'), (244, 'bq', 'Navassa Island', 5, 5, 0, None, None, None, None, None, '2015-11-01 13:38:26.425234', '2015-11-01 13:38:26.425234')]\n"
     ]
    }
   ],
   "source": [
    "import sqlite3\n",
    "connexion = sqlite3.connect(\"factbook.db/factbook.db\")\n",
    "c = connexion.cursor()\n",
    "c.execute(\"select * from facts order by population asc limit 10;\")\n",
    "result = c.fetchall()\n",
    "print(result)"
   ]
  },
  {
   "cell_type": "markdown",
   "id": "0d5d85db",
   "metadata": {},
   "source": [
    "# Calculer une estimation de la populaion en 2050"
   ]
  },
  {
   "cell_type": "code",
   "execution_count": 12,
   "id": "03cb5758",
   "metadata": {},
   "outputs": [],
   "source": [
    "import pandas as pd\n",
    "import math\n",
    "import sqlite3\n",
    "\n",
    "connexion = sqlite3.connect(\"factbook.db/factbook.db\")"
   ]
  },
  {
   "cell_type": "code",
   "execution_count": 5,
   "id": "3de56487",
   "metadata": {},
   "outputs": [
    {
     "name": "stdout",
     "output_type": "stream",
     "text": [
      "      id code            name       area  area_land  area_water    population  \\\n",
      "0      1   af     Afghanistan   652230.0   652230.0         0.0  3.256434e+07   \n",
      "1      2   al         Albania    28748.0    27398.0      1350.0  3.029278e+06   \n",
      "2      3   ag         Algeria  2381741.0  2381741.0         0.0  3.954217e+07   \n",
      "3      4   an         Andorra      468.0      468.0         0.0  8.558000e+04   \n",
      "4      5   ao          Angola  1246700.0  1246700.0         0.0  1.962535e+07   \n",
      "..   ...  ...             ...        ...        ...         ...           ...   \n",
      "256  257   zh  Atlantic Ocean        NaN        NaN         NaN           NaN   \n",
      "257  258   xo    Indian Ocean        NaN        NaN         NaN           NaN   \n",
      "258  259   zn   Pacific Ocean        NaN        NaN         NaN           NaN   \n",
      "259  260   oo  Southern Ocean        NaN        NaN         NaN           NaN   \n",
      "260  261   xx           World        NaN        NaN         NaN  7.256490e+09   \n",
      "\n",
      "     population_growth  birth_rate  death_rate  migration_rate  \\\n",
      "0                 2.32       38.57       13.89            1.51   \n",
      "1                 0.30       12.92        6.58            3.30   \n",
      "2                 1.84       23.67        4.31            0.92   \n",
      "3                 0.12        8.13        6.96            0.00   \n",
      "4                 2.78       38.78       11.49            0.46   \n",
      "..                 ...         ...         ...             ...   \n",
      "256                NaN         NaN         NaN             NaN   \n",
      "257                NaN         NaN         NaN             NaN   \n",
      "258                NaN         NaN         NaN             NaN   \n",
      "259                NaN         NaN         NaN             NaN   \n",
      "260               1.08       18.60        7.80             NaN   \n",
      "\n",
      "                     created_at                  updated_at  \n",
      "0    2015-11-01 13:19:49.461734  2015-11-01 13:19:49.461734  \n",
      "1    2015-11-01 13:19:54.431082  2015-11-01 13:19:54.431082  \n",
      "2    2015-11-01 13:19:59.961286  2015-11-01 13:19:59.961286  \n",
      "3    2015-11-01 13:20:03.659945  2015-11-01 13:20:03.659945  \n",
      "4    2015-11-01 13:20:08.625072  2015-11-01 13:20:08.625072  \n",
      "..                          ...                         ...  \n",
      "256  2015-11-01 13:39:01.255361  2015-11-01 13:39:01.255361  \n",
      "257  2015-11-01 13:39:02.723888  2015-11-01 13:39:02.723888  \n",
      "258  2015-11-01 13:39:04.179530  2015-11-01 13:39:04.179530  \n",
      "259  2015-11-01 13:39:05.806048  2015-11-01 13:39:05.806048  \n",
      "260  2015-11-01 13:39:09.910721  2015-11-01 13:39:09.910721  \n",
      "\n",
      "[261 rows x 13 columns]\n"
     ]
    }
   ],
   "source": [
    "# fonction de la librairie pandas qui va nous permettre de lire nos données dans un dataframe(une sorte de tableau)\n",
    "# Elle prend 2 paramètres : la requête sql et con qui est la variable de connexion\n",
    "a = pd.read_sql_query('select * from facts;', con = connexion)\n",
    "print(a)"
   ]
  },
  {
   "cell_type": "code",
   "execution_count": 6,
   "id": "236ad176",
   "metadata": {},
   "outputs": [],
   "source": [
    "# Utilisation d'une méthode permettant de rétirer les valeurs manquantes c'est la méthode dropna()\n",
    "# N = N0*e**(rt)\n",
    "# N est la population finale qu'on calcule\n",
    "# N0 est la population initiale\n",
    "# e est une constante\n",
    "# r est le taux de croissance annuelle\n",
    "# t est le nombre d'années entre l'estimation et l'initiale\n",
    "\n",
    "# exemple, on a 5000 habitants, le taux de croissance r de 4% 2015 --> 2050, donc t = 2050 - 2015 = 35\n",
    "# d'ou N = 5000*e**(0.04*35)\n",
    "\n",
    "# définition de la fonction qui calcule une estimation de la population en 2015\n",
    "def pop_growth(x):\n",
    "    return x['population'] * math.e ** ((x['population_growth']/100) * 35)"
   ]
  },
  {
   "cell_type": "code",
   "execution_count": 7,
   "id": "e4b9a9ae",
   "metadata": {},
   "outputs": [],
   "source": [
    "# Application de la fonction pop_growth à chaque pays + création d'une colonne pop_2050 qui va contenir les résultats\n",
    "a['pop_2050'] = a.apply(lambda row: pop_growth(row), axis=1)"
   ]
  },
  {
   "cell_type": "code",
   "execution_count": 8,
   "id": "8c311e0d",
   "metadata": {},
   "outputs": [],
   "source": [
    "# Suppression des lignes contenant des valeurs manquantes\n",
    "a = a.dropna(axis = 0)"
   ]
  },
  {
   "cell_type": "code",
   "execution_count": 9,
   "id": "2f0f3897",
   "metadata": {},
   "outputs": [],
   "source": [
    "# On filtre les pays qui ont une surface terrestre > 0 et une population > 0\n",
    "a = a[(a['area_land']>0) & (a['population']>0)]"
   ]
  },
  {
   "cell_type": "code",
   "execution_count": 17,
   "id": "a803bff8",
   "metadata": {},
   "outputs": [],
   "source": [
    "# On trie les pays par population décroissante\n",
    "b = a.sort_values(['pop_2050'], ascending = [False])"
   ]
  },
  {
   "cell_type": "code",
   "execution_count": 18,
   "id": "109da9d7",
   "metadata": {},
   "outputs": [
    {
     "name": "stdout",
     "output_type": "stream",
     "text": [
      "76                                 India\n",
      "36                                 China\n",
      "128                              Nigeria\n",
      "185                        United States\n",
      "77                             Indonesia\n",
      "131                             Pakistan\n",
      "13                            Bangladesh\n",
      "23                                Brazil\n",
      "39     Congo, Democratic Republic of the\n",
      "Name: name, dtype: object\n"
     ]
    }
   ],
   "source": [
    "# On assigne à la variable b les noms des pays correspondants limités à 10 valeurs\n",
    "b = b['name'].iloc[0:9]\n",
    "# On affiche b\n",
    "print(b)"
   ]
  },
  {
   "cell_type": "markdown",
   "id": "b2aab855",
   "metadata": {},
   "source": [
    "# - Calcul du Ratio"
   ]
  },
  {
   "cell_type": "markdown",
   "id": "6220ce02",
   "metadata": {},
   "source": [
    "## Objectif est de calculer le ratio de la surface terrestre totale Sur la surface des océans totale appartenant aux pays de la table facts"
   ]
  },
  {
   "cell_type": "code",
   "execution_count": 20,
   "id": "1448b700",
   "metadata": {},
   "outputs": [],
   "source": [
    "import pandas as pd\n",
    "import sqlite3 \n",
    "\n",
    "connexion = sqlite3.connect('factbook.db/factbook.db')"
   ]
  },
  {
   "cell_type": "code",
   "execution_count": 21,
   "id": "b313ca0d",
   "metadata": {},
   "outputs": [],
   "source": [
    "# On affiche dans un tableau pandas les sommes des surfaces terrestres et surfaces de l'eau pour chaque pays\n",
    "a = pd.read_sql_query('select sum(area_land), sum(area_water) from facts where area_land != \"\";', con = connexion)"
   ]
  },
  {
   "cell_type": "code",
   "execution_count": 22,
   "id": "833f9cab",
   "metadata": {},
   "outputs": [
    {
     "name": "stdout",
     "output_type": "stream",
     "text": [
      "0    28.390657\n",
      "dtype: float64\n"
     ]
    }
   ],
   "source": [
    "# On affiche le ratio Terre / Mer\n",
    "print(a['sum(area_land)']/a['sum(area_water)'])"
   ]
  },
  {
   "cell_type": "markdown",
   "id": "ff756624",
   "metadata": {},
   "source": [
    "# - Valeurs MIN et MAX"
   ]
  },
  {
   "cell_type": "code",
   "execution_count": 23,
   "id": "58e82151",
   "metadata": {},
   "outputs": [
    {
     "name": "stdout",
     "output_type": "stream",
     "text": [
      "[(0.0,)]\n"
     ]
    }
   ],
   "source": [
    "import sqlite3\n",
    "\n",
    "connexion = sqlite3.connect('factbook.db/factbook.db')\n",
    "\n",
    "tuple_pop_growth = connexion.execute(\"select min(population_growth) from facts;\").fetchall()\n",
    "print(tuple_pop_growth)"
   ]
  },
  {
   "cell_type": "code",
   "execution_count": 24,
   "id": "3b67b038",
   "metadata": {},
   "outputs": [
    {
     "name": "stdout",
     "output_type": "stream",
     "text": [
      "0.0\n"
     ]
    }
   ],
   "source": [
    "min_pop_growth = tuple_pop_growth[0][0]\n",
    "print(min_pop_growth)"
   ]
  },
  {
   "cell_type": "code",
   "execution_count": 25,
   "id": "346622c0",
   "metadata": {},
   "outputs": [
    {
     "name": "stdout",
     "output_type": "stream",
     "text": [
      "[(14.89,)]\n"
     ]
    }
   ],
   "source": [
    "tuple_death_rate = connexion.execute(\"select max(death_rate) from facts;\").fetchall()\n",
    "print(tuple_death_rate)"
   ]
  },
  {
   "cell_type": "code",
   "execution_count": 26,
   "id": "327c7768",
   "metadata": {},
   "outputs": [
    {
     "name": "stdout",
     "output_type": "stream",
     "text": [
      "14.89\n"
     ]
    }
   ],
   "source": [
    "max_death_rate = tuple_death_rate[0][0]\n",
    "print(max_death_rate)"
   ]
  },
  {
   "cell_type": "markdown",
   "id": "9aa694a3",
   "metadata": {},
   "source": [
    "# - Compter le nombre de Ligne"
   ]
  },
  {
   "cell_type": "code",
   "execution_count": 27,
   "id": "823adea3",
   "metadata": {},
   "outputs": [
    {
     "name": "stdout",
     "output_type": "stream",
     "text": [
      "[(228,)]\n"
     ]
    }
   ],
   "source": [
    "import sqlite3\n",
    "\n",
    "connexion = sqlite3.connect('factbook.db/factbook.db')\n",
    "\n",
    "birth_rate_tuple = connexion.execute(\"select count (birth_rate) from facts;\").fetchall()\n",
    "print(birth_rate_tuple)"
   ]
  },
  {
   "cell_type": "code",
   "execution_count": 28,
   "id": "115bf033",
   "metadata": {},
   "outputs": [
    {
     "name": "stdout",
     "output_type": "stream",
     "text": [
      "228\n"
     ]
    }
   ],
   "source": [
    "birth_rate_count = birth_rate_tuple[0][0]\n",
    "print(birth_rate_count)"
   ]
  },
  {
   "cell_type": "markdown",
   "id": "132246ad",
   "metadata": {},
   "source": [
    "# - Calcule des sommes et des moyennes "
   ]
  },
  {
   "cell_type": "code",
   "execution_count": 29,
   "id": "8f879be6",
   "metadata": {},
   "outputs": [],
   "source": [
    "import sqlite3\n",
    "\n",
    "connexion = sqlite3.connect('factbook.db/factbook.db')\n"
   ]
  },
  {
   "cell_type": "code",
   "execution_count": 32,
   "id": "1c219302",
   "metadata": {},
   "outputs": [
    {
     "name": "stdout",
     "output_type": "stream",
     "text": [
      "128584834\n"
     ]
    }
   ],
   "source": [
    "# Calcul de la Somme de la colonne area_land\n",
    "tuple_som_area_land = connexion.execute(\"select sum(area_land) from facts;\").fetchall()\n",
    "som_area_land = tuple_som_area_land[0][0]\n",
    "print(som_area_land)"
   ]
  },
  {
   "cell_type": "code",
   "execution_count": 33,
   "id": "18ad96ff",
   "metadata": {},
   "outputs": [
    {
     "name": "stdout",
     "output_type": "stream",
     "text": [
      "19067.59259259259\n"
     ]
    }
   ],
   "source": [
    "# Calcul de la moyenne de la colonne area_water\n",
    "tuple_moy_area_water = connexion.execute(\"select avg(area_water) from facts;\").fetchall()\n",
    "moy_area_water = tuple_moy_area_water[0][0]\n",
    "print(moy_area_water)"
   ]
  },
  {
   "cell_type": "markdown",
   "id": "51882e82",
   "metadata": {},
   "source": [
    "# - Combiner plusieurs fonctions"
   ]
  },
  {
   "cell_type": "code",
   "execution_count": 34,
   "id": "2dbb3417",
   "metadata": {},
   "outputs": [],
   "source": [
    "import sqlite3\n",
    "\n",
    "connexion = sqlite3.connect('factbook.db/factbook.db')"
   ]
  },
  {
   "cell_type": "code",
   "execution_count": 35,
   "id": "34bee21b",
   "metadata": {},
   "outputs": [],
   "source": [
    "tuple_req = connexion.execute(\"select count(*),sum(death_rate), avg(population_growth) from facts;\").fetchall()"
   ]
  },
  {
   "cell_type": "code",
   "execution_count": 38,
   "id": "c53fe58c",
   "metadata": {},
   "outputs": [
    {
     "name": "stdout",
     "output_type": "stream",
     "text": [
      "261 1783.2500000000002 1.2009745762711865\n"
     ]
    }
   ],
   "source": [
    "req_count = tuple_req[0][0]\n",
    "req_sum = tuple_req[0][1]\n",
    "req_avg = tuple_req[0][2]\n",
    "print(req_count,req_sum,req_avg)"
   ]
  },
  {
   "cell_type": "code",
   "execution_count": 39,
   "id": "8ce2719a",
   "metadata": {},
   "outputs": [
    {
     "name": "stdout",
     "output_type": "stream",
     "text": [
      "   count(*)  sum(death_rate)  avg(population_growth)\n",
      "0       261          1783.25                1.200975\n"
     ]
    }
   ],
   "source": [
    "# Ici je veux afficher mon résultat dans un dataframe\n",
    "a = pd.read_sql_query('select count(*),sum(death_rate), avg(population_growth) from facts;', con = connexion)\n",
    "print(a)"
   ]
  },
  {
   "cell_type": "code",
   "execution_count": 40,
   "id": "74287a36",
   "metadata": {},
   "outputs": [
    {
     "name": "stdout",
     "output_type": "stream",
     "text": [
      "62094928.32231405 15026972654 45.45\n"
     ]
    }
   ],
   "source": [
    "# requête qui calcule la moyenne de la colonne population, la somme de la colonne population et donne le maximum de la colonne \n",
    "# birth_rate (tout ceci dans une requête)\n",
    "tuple_request = connexion.execute(\"select avg(population),sum(population), max(birth_rate) from facts;\").fetchall()\n",
    "request_avg = tuple_request[0][0]\n",
    "request_sum = tuple_request[0][1]\n",
    "request_max = tuple_request[0][2]\n",
    "print(request_avg,request_sum,request_max)"
   ]
  },
  {
   "cell_type": "code",
   "execution_count": 41,
   "id": "a4861d72",
   "metadata": {},
   "outputs": [
    {
     "name": "stdout",
     "output_type": "stream",
     "text": [
      "   avg(population)  sum(population)  max(birth_rate)\n",
      "0     6.209493e+07      15026972654            45.45\n"
     ]
    }
   ],
   "source": [
    "# Ici je veux afficher mon résultat dans un dataframe\n",
    "a = pd.read_sql_query('select avg(population),sum(population), max(birth_rate) from facts;', con = connexion)\n",
    "print(a)"
   ]
  },
  {
   "cell_type": "markdown",
   "id": "d2a331f6",
   "metadata": {},
   "source": [
    "# - Association des valeurs de calcul avec la condition where"
   ]
  },
  {
   "cell_type": "code",
   "execution_count": 43,
   "id": "04622ef4",
   "metadata": {},
   "outputs": [
    {
     "name": "stdout",
     "output_type": "stream",
     "text": [
      "1.4572222222222226\n"
     ]
    }
   ],
   "source": [
    "# Ecrire une requête SQL qui calcule la moyenne de la colonne population_growth pour les pays ayant une population > 10000000 habitants\n",
    "request_tuple = connexion.execute(\"select avg(population_growth) from facts where population > 10000000;\").fetchall()\n",
    "request = request_tuple[0][0]\n",
    "print(request)"
   ]
  },
  {
   "cell_type": "markdown",
   "id": "7a09d858",
   "metadata": {},
   "source": [
    "# - Selectionner des éléments ou données uniques"
   ]
  },
  {
   "cell_type": "code",
   "execution_count": 46,
   "id": "ba24171c",
   "metadata": {},
   "outputs": [
    {
     "name": "stdout",
     "output_type": "stream",
     "text": [
      "[(38.57,), (12.92,), (23.67,), (8.13,), (38.78,), (15.85,), (16.64,), (13.61,), (12.15,), (9.41,), (15.5,), (13.66,), (21.14,), (11.87,), (10.7,), (11.41,), (24.68,), (36.02,), (17.78,), (22.76,), (8.87,), (20.96,), (14.46,), (17.32,), (8.92,), (42.03,), (18.39,), (42.01,), (23.83,), (36.17,), (10.28,), (20.33,), (35.08,), (36.6,), (13.83,), (12.49,), (16.47,), (27.84,), (34.88,), (35.85,), (15.91,), (28.67,), (9.45,), (9.9,), (9.63,), (10.27,), (23.65,), (15.41,), (18.73,), (18.51,), (22.9,), (16.46,), (33.31,), (30.0,), (10.51,), (37.27,), (19.43,), (10.72,), (12.38,), (34.49,), (30.86,), (12.74,), (8.47,), (31.09,), (8.66,), (16.03,), (24.89,), (35.74,), (33.38,), (15.59,), (22.31,), (23.14,), (9.16,), (13.91,), (19.55,), (16.72,), (17.99,), (31.45,), (14.84,), (18.48,), (8.74,), (18.16,), (7.93,), (25.37,), (19.15,), (26.4,), (21.46,), (14.52,), (8.19,), (None,), (19.91,), (22.98,), (24.25,), (10.0,), (14.59,), (25.47,), (34.41,), (18.03,), (10.45,), (10.1,), (11.37,), (11.55,), (32.61,), (41.56,), (19.71,), (15.75,), (44.99,), (10.18,), (25.6,), (31.34,), (13.29,), (18.78,), (20.54,), (12.0,), (6.65,), (20.25,), (10.42,), (18.2,), (38.58,), (19.8,), (24.95,), (20.64,), (10.83,), (13.33,), (45.45,), (37.64,), (12.14,), (24.44,), (22.58,), (11.05,), (18.32,), (24.38,), (16.37,), (18.28,), (24.27,), (9.74,), (9.27,), (9.84,), (9.14,), (11.6,), (33.75,), (13.5,), (13.7,), (13.57,), (20.87,), (8.63,), (34.23,), (34.52,), (9.08,), (14.19,), (37.03,), (8.27,), (9.91,), (8.42,), (25.77,), (40.45,), (20.75,), (36.91,), (9.64,), (29.19,), (16.34,), (24.67,), (11.99,), (10.5,), (22.17,), (36.39,), (11.19,), (34.16,), (34.13,), (23.0,), (13.46,), (16.33,), (19.4,), (23.74,), (43.79,), (15.43,), (12.17,), (13.07,), (17.0,), (25.04,), (19.16,), (15.96,), (29.98,), (42.13,), (32.26,), (10.2,), (9.23,), (8.88,), (13.77,), (14.48,), (15.22,), (15.33,), (7.42,), (13.45,), (12.56,), (13.8,), (13.0,), (14.33,), (12.67,), (11.33,), (10.91,), (12.11,), (10.9,), (14.08,), (11.91,), (11.1,), (11.26,), (9.88,), (16.13,), (22.89,), (16.82,), (10.86,), (10.31,), (31.11,), (22.99,), (30.24,), (18.6,)]\n"
     ]
    }
   ],
   "source": [
    "unique_birth_rate = connexion.execute(\"select distinct birth_rate from facts;\").fetchall()\n",
    "print(unique_birth_rate)"
   ]
  },
  {
   "cell_type": "markdown",
   "id": "cb126095",
   "metadata": {},
   "source": [
    "## Associer les fonctions de calcul avec DISTINCT\n"
   ]
  },
  {
   "cell_type": "code",
   "execution_count": 51,
   "id": "4c929c6a",
   "metadata": {},
   "outputs": [
    {
     "name": "stdout",
     "output_type": "stream",
     "text": [
      "   avg(distinct birth_rate)\n",
      "0                 20.434737\n"
     ]
    }
   ],
   "source": [
    "# Ici on calcule la moyenne des valeurs distinctes de la colonne birth_rate pour lesquelles population>20000000 \n",
    "# là je stock le résultat dans un dataframe\n",
    "unique = pd.read_sql_query('select avg(distinct birth_rate) from facts where population > 20000000;', con = connexion)\n",
    "print(unique)"
   ]
  },
  {
   "cell_type": "code",
   "execution_count": 53,
   "id": "36f2ab5d",
   "metadata": {},
   "outputs": [
    {
     "name": "stdout",
     "output_type": "stream",
     "text": [
      "4233873015\n"
     ]
    }
   ],
   "source": [
    "# Calcul de la somme de toutes les valeurs distinctes de la colonne population pour lesquelles area_land > 1000000\n",
    "# là je stock le résultat dans un tuple\n",
    "unique = connexion.execute(\"select sum(distinct population) from facts where area_land > 1000000;\").fetchall()\n",
    "u = unique[0][0]\n",
    "print(u)"
   ]
  },
  {
   "cell_type": "markdown",
   "id": "7ca6abb6",
   "metadata": {},
   "source": [
    "# Opération mathématique en SQL"
   ]
  },
  {
   "cell_type": "code",
   "execution_count": 61,
   "id": "96a3d85b",
   "metadata": {},
   "outputs": [
    {
     "name": "stdout",
     "output_type": "stream",
     "text": [
      "[(2.32e-06,), (3e-07,), (1.8400000000000002e-06,), (1.2e-07,), (2.7799999999999996e-06,), (1.24e-06,), (9.300000000000001e-07,), (1.5e-07,), (1.0700000000000001e-06,), (5.5e-07,), (9.6e-07,), (8.5e-07,), (2.4100000000000002e-06,), (1.6000000000000001e-06,), (3.1e-07,), (2.0000000000000002e-07,), (7.6e-07,), (1.87e-06,), (2.7799999999999996e-06,), (1.1100000000000002e-06,), (1.56e-06,), (1.3e-07,), (1.21e-06,), (7.7e-07,), (1.6200000000000002e-06,), (5.8e-07,), (3.03e-06,), (1.01e-06,), (3.28e-06,), (1.5800000000000001e-06,), (2.5899999999999998e-06,), (7.5e-07,), (1.3600000000000001e-06,), (2.13e-06,), (1.89e-06,), (8.2e-07,), (4.5000000000000003e-07,), (1.04e-06,), (1.77e-06,), (2.4500000000000003e-06,), (2e-06,), (1.22e-06,), (1.91e-06,), (1.3e-07,), (1.5e-07,), (1.4299999999999999e-06,), (1.6e-07,), (2.2e-07,), (2.2e-06,), (2.1e-07,), (1.23e-06,), (1.35e-06,), (1.79e-06,), (2.5e-07,), (2.5099999999999997e-06,), (2.25e-06,), (5.5e-07,), (2.8900000000000003e-06,), (6.7e-07,), (4.0000000000000003e-07,), (4.3e-07,), (1.9299999999999997e-06,), (2.16e-06,), (8e-08,), (1.7000000000000001e-07,), (2.1800000000000003e-06,), (1e-08,), (4.8e-07,), (1.8200000000000002e-06,), (2.63e-06,), (1.91e-06,), (2e-08,), (1.17e-06,), (1.68e-06,), (2.2e-07,), (1.21e-06,), (1.22e-06,), (9.200000000000001e-07,), (1.2e-06,), (2.9300000000000003e-06,), (1.25e-06,), (1.56e-06,), (2.7e-07,), (6.800000000000001e-07,), (1.6e-07,), (8.3e-07,), (1.1399999999999999e-06,), (1.9299999999999997e-06,), (1.15e-06,), (5.3e-07,), (1.4e-07,), (None,), (1.6200000000000002e-06,), (1.1100000000000002e-06,), (1.55e-06,), (1.06e-06,), (8.6e-07,), (3.2e-07,), (2.47e-06,), (2.23e-06,), (8.4e-07,), (1.04e-06,), (2.13e-06,), (2.0000000000000002e-07,), (2.58e-06,), (3.32e-06,), (1.44e-06,), (8e-08,), (2.98e-06,), (3.1e-07,), (1.66e-06,), (2.23e-06,), (6.4e-07,), (1.18e-06,), (4.6000000000000004e-07,), (1.03e-06,), (1.2e-07,), (1.31e-06,), (4.2e-07,), (1e-06,), (2.4500000000000003e-06,), (5.9e-07,), (5.5e-07,), (1.79e-06,), (4.1e-07,), (8.2e-07,), (1e-06,), (3.25e-06,), (2.4500000000000003e-06,), (1.13e-06,), (2.0699999999999997e-06,), (1.46e-06,), (3.8e-07,), (1.32e-06,), (1.7800000000000001e-06,), (1.16e-06,), (9.7e-07,), (1.61e-06,), (9e-08,), (9e-08,), (3.07e-06,), (3e-07,), (4e-08,), (2.56e-06,), (7.6e-07,), (3.4000000000000003e-07,), (2.8e-07,), (5.8e-07,), (8.2e-07,), (1.8400000000000002e-06,), (1.46e-06,), (2.4500000000000003e-06,), (4.6000000000000004e-07,), (8.3e-07,), (2.35e-06,), (1.89e-06,), (2e-08,), (2.6e-07,), (2.02e-06,), (1.83e-06,), (1.33e-06,), (4.02e-06,), (8.900000000000001e-07,), (8.4e-07,), (1.72e-06,), (1.08e-06,), (1.1100000000000002e-06,), (8.000000000000001e-07,), (7.1e-07,), (1.6e-07,), (1.71e-06,), (2.79e-06,), (3.4000000000000003e-07,), (2.42e-06,), (2.69e-06,), (3e-08,), (1.3e-07,), (8.900000000000001e-07,), (1.26e-06,), (1.1399999999999999e-06,), (8.2e-07,), (3.2400000000000003e-06,), (6e-07,), (2.58e-06,), (5.4e-07,), (7.8e-07,), (2.7e-07,), (9.300000000000001e-07,), (1.95e-06,), (0.0,), (1.3899999999999998e-06,), (9.7e-07,), (2.47e-06,), (2.88e-06,), (2.21e-06,), (2.3000000000000002e-07,), (2.5e-07,), (None,), (1.1100000000000002e-06,), (0.0,), (None,), (None,), (1e-08,), (3.8e-07,), (8.000000000000001e-07,), (5.1e-07,), (0.0,), (None,), (9.399999999999999e-07,), (None,), (1.38e-06,), (None,), (None,), (1.08e-06,), (3.3e-07,), (1.33e-06,), (4.3e-07,), (1.51e-06,), (2.95e-06,), (3e-08,), (1e-08,), (None,), (None,), (3e-08,), (None,), (2.0299999999999996e-06,), (5e-07,), (None,), (2.32e-06,), (2.1000000000000002e-06,), (None,), (1e-08,), (2.4e-07,), (3.4000000000000003e-07,), (8.000000000000001e-07,), (7.6e-07,), (5e-07,), (0.0,), (2.4e-07,), (None,), (2.3e-06,), (3e-07,), (5.4e-07,), (None,), (2.1800000000000003e-06,), (6e-07,), (5.9e-07,), (None,), (None,), (None,), (2.81e-06,), (None,), (None,), (1.95e-06,), (2.8199999999999997e-06,), (None,), (None,), (None,), (None,), (None,), (1.08e-06,)]\n"
     ]
    }
   ],
   "source": [
    "# Afficher les valeurs de la colonne population_growth en millions (décimales)\n",
    "population = connexion.execute(\"select population_growth / 1000000.0 from facts;\").fetchall()\n",
    "print(population)"
   ]
  },
  {
   "cell_type": "markdown",
   "id": "06fc4a06",
   "metadata": {},
   "source": [
    "# Exécuter des opérations mathématiques entre colonnes"
   ]
  },
  {
   "cell_type": "code",
   "execution_count": 63,
   "id": "a398578f",
   "metadata": {},
   "outputs": [
    {
     "name": "stdout",
     "output_type": "stream",
     "text": [
      "         habitant\n",
      "0    1.081136e+08\n",
      "1    3.938061e+06\n",
      "2    1.122998e+08\n",
      "3    9.584960e+04\n",
      "4    7.418383e+07\n",
      "..            ...\n",
      "256           NaN\n",
      "257           NaN\n",
      "258           NaN\n",
      "259           NaN\n",
      "260  1.509350e+10\n",
      "\n",
      "[261 rows x 1 columns]\n"
     ]
    }
   ],
   "source": [
    "# Calculer pour chaque pays le nombre d'habitants qu'il y aura l'année suivante\n",
    "habitant = pd.read_sql_query('select (population_growth*population)+population as habitant from facts;', con = connexion)\n",
    "print(habitant)"
   ]
  },
  {
   "cell_type": "markdown",
   "id": "b91dade8",
   "metadata": {},
   "source": [
    "# Découverte du Dataset "
   ]
  },
  {
   "cell_type": "code",
   "execution_count": 1,
   "id": "b2ade195",
   "metadata": {},
   "outputs": [],
   "source": [
    "import pandas as pd\n",
    "import sqlite3\n",
    "\n",
    "df = pd.read_csv('academy_awards.csv', encoding='ISO-8859-1')"
   ]
  },
  {
   "cell_type": "code",
   "execution_count": 2,
   "id": "164b12b7",
   "metadata": {},
   "outputs": [
    {
     "data": {
      "text/html": [
       "<div>\n",
       "<style scoped>\n",
       "    .dataframe tbody tr th:only-of-type {\n",
       "        vertical-align: middle;\n",
       "    }\n",
       "\n",
       "    .dataframe tbody tr th {\n",
       "        vertical-align: top;\n",
       "    }\n",
       "\n",
       "    .dataframe thead th {\n",
       "        text-align: right;\n",
       "    }\n",
       "</style>\n",
       "<table border=\"1\" class=\"dataframe\">\n",
       "  <thead>\n",
       "    <tr style=\"text-align: right;\">\n",
       "      <th></th>\n",
       "      <th>Year</th>\n",
       "      <th>Category</th>\n",
       "      <th>Nominee</th>\n",
       "      <th>Additional Info</th>\n",
       "      <th>Won?</th>\n",
       "      <th>Unnamed: 5</th>\n",
       "      <th>Unnamed: 6</th>\n",
       "      <th>Unnamed: 7</th>\n",
       "      <th>Unnamed: 8</th>\n",
       "      <th>Unnamed: 9</th>\n",
       "      <th>Unnamed: 10</th>\n",
       "    </tr>\n",
       "  </thead>\n",
       "  <tbody>\n",
       "    <tr>\n",
       "      <th>0</th>\n",
       "      <td>2010 (83rd)</td>\n",
       "      <td>Actor -- Leading Role</td>\n",
       "      <td>Javier Bardem</td>\n",
       "      <td>Biutiful {'Uxbal'}</td>\n",
       "      <td>NO</td>\n",
       "      <td>NaN</td>\n",
       "      <td>NaN</td>\n",
       "      <td>NaN</td>\n",
       "      <td>NaN</td>\n",
       "      <td>NaN</td>\n",
       "      <td>NaN</td>\n",
       "    </tr>\n",
       "    <tr>\n",
       "      <th>1</th>\n",
       "      <td>2010 (83rd)</td>\n",
       "      <td>Actor -- Leading Role</td>\n",
       "      <td>Jeff Bridges</td>\n",
       "      <td>True Grit {'Rooster Cogburn'}</td>\n",
       "      <td>NO</td>\n",
       "      <td>NaN</td>\n",
       "      <td>NaN</td>\n",
       "      <td>NaN</td>\n",
       "      <td>NaN</td>\n",
       "      <td>NaN</td>\n",
       "      <td>NaN</td>\n",
       "    </tr>\n",
       "    <tr>\n",
       "      <th>2</th>\n",
       "      <td>2010 (83rd)</td>\n",
       "      <td>Actor -- Leading Role</td>\n",
       "      <td>Jesse Eisenberg</td>\n",
       "      <td>The Social Network {'Mark Zuckerberg'}</td>\n",
       "      <td>NO</td>\n",
       "      <td>NaN</td>\n",
       "      <td>NaN</td>\n",
       "      <td>NaN</td>\n",
       "      <td>NaN</td>\n",
       "      <td>NaN</td>\n",
       "      <td>NaN</td>\n",
       "    </tr>\n",
       "    <tr>\n",
       "      <th>3</th>\n",
       "      <td>2010 (83rd)</td>\n",
       "      <td>Actor -- Leading Role</td>\n",
       "      <td>Colin Firth</td>\n",
       "      <td>The King's Speech {'King George VI'}</td>\n",
       "      <td>YES</td>\n",
       "      <td>NaN</td>\n",
       "      <td>NaN</td>\n",
       "      <td>NaN</td>\n",
       "      <td>NaN</td>\n",
       "      <td>NaN</td>\n",
       "      <td>NaN</td>\n",
       "    </tr>\n",
       "    <tr>\n",
       "      <th>4</th>\n",
       "      <td>2010 (83rd)</td>\n",
       "      <td>Actor -- Leading Role</td>\n",
       "      <td>James Franco</td>\n",
       "      <td>127 Hours {'Aron Ralston'}</td>\n",
       "      <td>NO</td>\n",
       "      <td>NaN</td>\n",
       "      <td>NaN</td>\n",
       "      <td>NaN</td>\n",
       "      <td>NaN</td>\n",
       "      <td>NaN</td>\n",
       "      <td>NaN</td>\n",
       "    </tr>\n",
       "  </tbody>\n",
       "</table>\n",
       "</div>"
      ],
      "text/plain": [
       "          Year               Category          Nominee  \\\n",
       "0  2010 (83rd)  Actor -- Leading Role    Javier Bardem   \n",
       "1  2010 (83rd)  Actor -- Leading Role     Jeff Bridges   \n",
       "2  2010 (83rd)  Actor -- Leading Role  Jesse Eisenberg   \n",
       "3  2010 (83rd)  Actor -- Leading Role      Colin Firth   \n",
       "4  2010 (83rd)  Actor -- Leading Role     James Franco   \n",
       "\n",
       "                          Additional Info Won? Unnamed: 5 Unnamed: 6  \\\n",
       "0                      Biutiful {'Uxbal'}   NO        NaN        NaN   \n",
       "1           True Grit {'Rooster Cogburn'}   NO        NaN        NaN   \n",
       "2  The Social Network {'Mark Zuckerberg'}   NO        NaN        NaN   \n",
       "3    The King's Speech {'King George VI'}  YES        NaN        NaN   \n",
       "4              127 Hours {'Aron Ralston'}   NO        NaN        NaN   \n",
       "\n",
       "  Unnamed: 7 Unnamed: 8 Unnamed: 9 Unnamed: 10  \n",
       "0        NaN        NaN        NaN         NaN  \n",
       "1        NaN        NaN        NaN         NaN  \n",
       "2        NaN        NaN        NaN         NaN  \n",
       "3        NaN        NaN        NaN         NaN  \n",
       "4        NaN        NaN        NaN         NaN  "
      ]
     },
     "execution_count": 2,
     "metadata": {},
     "output_type": "execute_result"
    }
   ],
   "source": [
    "df.head()"
   ]
  },
  {
   "cell_type": "code",
   "execution_count": 3,
   "id": "2a88b559",
   "metadata": {},
   "outputs": [
    {
     "data": {
      "text/plain": [
       "*                                                                                                               7\n",
       " resilience                                                                                                     1\n",
       " D.B. \"Don\" Keele and Mark E. Engebretson has resulted in the over 20-year dominance of constant-directivity    1\n",
       " error-prone measurements on sets. [Digital Imaging Technology]\"                                                1\n",
       " discoverer of stars                                                                                            1\n",
       "Name: Unnamed: 5, dtype: int64"
      ]
     },
     "execution_count": 3,
     "metadata": {},
     "output_type": "execute_result"
    }
   ],
   "source": [
    "# méthode pour régarder s'il n'y a pas de données intéressante dans les colonnes sans nom\n",
    "df['Unnamed: 5'].value_counts()"
   ]
  },
  {
   "cell_type": "code",
   "execution_count": 4,
   "id": "79eb97ff",
   "metadata": {},
   "outputs": [
    {
     "data": {
      "text/plain": [
       "*    1\n",
       "Name: Unnamed: 10, dtype: int64"
      ]
     },
     "execution_count": 4,
     "metadata": {},
     "output_type": "execute_result"
    }
   ],
   "source": [
    "df['Unnamed: 10'].value_counts()"
   ]
  },
  {
   "cell_type": "code",
   "execution_count": 6,
   "id": "ed6be85a",
   "metadata": {},
   "outputs": [
    {
     "data": {
      "text/plain": [
       "(10137, 11)"
      ]
     },
     "execution_count": 6,
     "metadata": {},
     "output_type": "execute_result"
    }
   ],
   "source": [
    "# Afficher le nombre de lignes et de colonnes\n",
    "df.shape"
   ]
  },
  {
   "cell_type": "markdown",
   "id": "e4ea87a8",
   "metadata": {},
   "source": [
    "## Filtrer les données"
   ]
  },
  {
   "cell_type": "code",
   "execution_count": 7,
   "id": "a07423f6",
   "metadata": {},
   "outputs": [
    {
     "data": {
      "text/plain": [
       "1941 (14th)      192\n",
       "1942 (15th)      190\n",
       "1943 (16th)      188\n",
       "1944 (17th)      181\n",
       "1945 (18th)      163\n",
       "                ... \n",
       "1930/31 (4th)     50\n",
       "1931/32 (5th)     47\n",
       "1929/30 (3rd)     42\n",
       "1927/28 (1st)     39\n",
       "1928/29 (2nd)     38\n",
       "Name: Year, Length: 83, dtype: int64"
      ]
     },
     "execution_count": 7,
     "metadata": {},
     "output_type": "execute_result"
    }
   ],
   "source": [
    "df['Year'].value_counts()"
   ]
  },
  {
   "cell_type": "code",
   "execution_count": 8,
   "id": "fb69cd33",
   "metadata": {},
   "outputs": [],
   "source": [
    "# Sélectionner les 04 premiers éléments de la colonne year\n",
    "df['Year'] = df['Year'].str[0:4]"
   ]
  },
  {
   "cell_type": "code",
   "execution_count": 9,
   "id": "07ea0368",
   "metadata": {},
   "outputs": [
    {
     "data": {
      "text/plain": [
       "dtype('O')"
      ]
     },
     "execution_count": 9,
     "metadata": {},
     "output_type": "execute_result"
    }
   ],
   "source": [
    "# Détermine le type de données de la colonnes year\n",
    "df['Year'].dtypes"
   ]
  },
  {
   "cell_type": "code",
   "execution_count": 10,
   "id": "0a7a9f33",
   "metadata": {},
   "outputs": [],
   "source": [
    "# Convertir la colonne year en type de données int64\n",
    "df['Year'] = df['Year'].astype(int)"
   ]
  },
  {
   "cell_type": "code",
   "execution_count": 11,
   "id": "059d66e2",
   "metadata": {},
   "outputs": [
    {
     "data": {
      "text/plain": [
       "dtype('int32')"
      ]
     },
     "execution_count": 11,
     "metadata": {},
     "output_type": "execute_result"
    }
   ],
   "source": [
    "df['Year'].dtypes"
   ]
  },
  {
   "cell_type": "code",
   "execution_count": 13,
   "id": "891044cf",
   "metadata": {},
   "outputs": [],
   "source": [
    "later_than_2000 = df[df['Year'] > 2000]\n"
   ]
  },
  {
   "cell_type": "code",
   "execution_count": 14,
   "id": "467beb13",
   "metadata": {},
   "outputs": [
    {
     "data": {
      "text/html": [
       "<div>\n",
       "<style scoped>\n",
       "    .dataframe tbody tr th:only-of-type {\n",
       "        vertical-align: middle;\n",
       "    }\n",
       "\n",
       "    .dataframe tbody tr th {\n",
       "        vertical-align: top;\n",
       "    }\n",
       "\n",
       "    .dataframe thead th {\n",
       "        text-align: right;\n",
       "    }\n",
       "</style>\n",
       "<table border=\"1\" class=\"dataframe\">\n",
       "  <thead>\n",
       "    <tr style=\"text-align: right;\">\n",
       "      <th></th>\n",
       "      <th>Year</th>\n",
       "      <th>Category</th>\n",
       "      <th>Nominee</th>\n",
       "      <th>Additional Info</th>\n",
       "      <th>Won?</th>\n",
       "      <th>Unnamed: 5</th>\n",
       "      <th>Unnamed: 6</th>\n",
       "      <th>Unnamed: 7</th>\n",
       "      <th>Unnamed: 8</th>\n",
       "      <th>Unnamed: 9</th>\n",
       "      <th>Unnamed: 10</th>\n",
       "    </tr>\n",
       "  </thead>\n",
       "  <tbody>\n",
       "    <tr>\n",
       "      <th>0</th>\n",
       "      <td>2010</td>\n",
       "      <td>Actor -- Leading Role</td>\n",
       "      <td>Javier Bardem</td>\n",
       "      <td>Biutiful {'Uxbal'}</td>\n",
       "      <td>NO</td>\n",
       "      <td>NaN</td>\n",
       "      <td>NaN</td>\n",
       "      <td>NaN</td>\n",
       "      <td>NaN</td>\n",
       "      <td>NaN</td>\n",
       "      <td>NaN</td>\n",
       "    </tr>\n",
       "    <tr>\n",
       "      <th>1</th>\n",
       "      <td>2010</td>\n",
       "      <td>Actor -- Leading Role</td>\n",
       "      <td>Jeff Bridges</td>\n",
       "      <td>True Grit {'Rooster Cogburn'}</td>\n",
       "      <td>NO</td>\n",
       "      <td>NaN</td>\n",
       "      <td>NaN</td>\n",
       "      <td>NaN</td>\n",
       "      <td>NaN</td>\n",
       "      <td>NaN</td>\n",
       "      <td>NaN</td>\n",
       "    </tr>\n",
       "    <tr>\n",
       "      <th>2</th>\n",
       "      <td>2010</td>\n",
       "      <td>Actor -- Leading Role</td>\n",
       "      <td>Jesse Eisenberg</td>\n",
       "      <td>The Social Network {'Mark Zuckerberg'}</td>\n",
       "      <td>NO</td>\n",
       "      <td>NaN</td>\n",
       "      <td>NaN</td>\n",
       "      <td>NaN</td>\n",
       "      <td>NaN</td>\n",
       "      <td>NaN</td>\n",
       "      <td>NaN</td>\n",
       "    </tr>\n",
       "    <tr>\n",
       "      <th>3</th>\n",
       "      <td>2010</td>\n",
       "      <td>Actor -- Leading Role</td>\n",
       "      <td>Colin Firth</td>\n",
       "      <td>The King's Speech {'King George VI'}</td>\n",
       "      <td>YES</td>\n",
       "      <td>NaN</td>\n",
       "      <td>NaN</td>\n",
       "      <td>NaN</td>\n",
       "      <td>NaN</td>\n",
       "      <td>NaN</td>\n",
       "      <td>NaN</td>\n",
       "    </tr>\n",
       "    <tr>\n",
       "      <th>4</th>\n",
       "      <td>2010</td>\n",
       "      <td>Actor -- Leading Role</td>\n",
       "      <td>James Franco</td>\n",
       "      <td>127 Hours {'Aron Ralston'}</td>\n",
       "      <td>NO</td>\n",
       "      <td>NaN</td>\n",
       "      <td>NaN</td>\n",
       "      <td>NaN</td>\n",
       "      <td>NaN</td>\n",
       "      <td>NaN</td>\n",
       "      <td>NaN</td>\n",
       "    </tr>\n",
       "  </tbody>\n",
       "</table>\n",
       "</div>"
      ],
      "text/plain": [
       "   Year               Category          Nominee  \\\n",
       "0  2010  Actor -- Leading Role    Javier Bardem   \n",
       "1  2010  Actor -- Leading Role     Jeff Bridges   \n",
       "2  2010  Actor -- Leading Role  Jesse Eisenberg   \n",
       "3  2010  Actor -- Leading Role      Colin Firth   \n",
       "4  2010  Actor -- Leading Role     James Franco   \n",
       "\n",
       "                          Additional Info Won? Unnamed: 5 Unnamed: 6  \\\n",
       "0                      Biutiful {'Uxbal'}   NO        NaN        NaN   \n",
       "1           True Grit {'Rooster Cogburn'}   NO        NaN        NaN   \n",
       "2  The Social Network {'Mark Zuckerberg'}   NO        NaN        NaN   \n",
       "3    The King's Speech {'King George VI'}  YES        NaN        NaN   \n",
       "4              127 Hours {'Aron Ralston'}   NO        NaN        NaN   \n",
       "\n",
       "  Unnamed: 7 Unnamed: 8 Unnamed: 9 Unnamed: 10  \n",
       "0        NaN        NaN        NaN         NaN  \n",
       "1        NaN        NaN        NaN         NaN  \n",
       "2        NaN        NaN        NaN         NaN  \n",
       "3        NaN        NaN        NaN         NaN  \n",
       "4        NaN        NaN        NaN         NaN  "
      ]
     },
     "execution_count": 14,
     "metadata": {},
     "output_type": "execute_result"
    }
   ],
   "source": [
    "# On affiche\n",
    "later_than_2000.head()"
   ]
  },
  {
   "cell_type": "code",
   "execution_count": 15,
   "id": "8239a2a2",
   "metadata": {},
   "outputs": [
    {
     "data": {
      "text/plain": [
       "(1294, 11)"
      ]
     },
     "execution_count": 15,
     "metadata": {},
     "output_type": "execute_result"
    }
   ],
   "source": [
    "# On détermine le nombre de ligne de notre nouveau tableau \n",
    "later_than_2000.shape"
   ]
  },
  {
   "cell_type": "code",
   "execution_count": 21,
   "id": "5dfd88ed",
   "metadata": {},
   "outputs": [],
   "source": [
    "# Actor -- Leading Role\n",
    "# Actor -- Support Role\n",
    "# Actress -- Leading Role\n",
    "# Actress -- Support Role\n",
    "# On va créer une liste qui contient ces 4 différentes catégories\n",
    "award_categories = ['Actor -- Leading Role','Actor -- Support Role','Actress -- Leading Role','Actress -- Support Role']"
   ]
  },
  {
   "cell_type": "code",
   "execution_count": 22,
   "id": "6a0a69a9",
   "metadata": {},
   "outputs": [],
   "source": [
    "# Filtrer les 4 catégories\n",
    "nominations = later_than_2000[later_than_2000['Category'].isin(award_categories)]"
   ]
  },
  {
   "cell_type": "code",
   "execution_count": 23,
   "id": "b4fd0af2",
   "metadata": {},
   "outputs": [
    {
     "data": {
      "text/html": [
       "<div>\n",
       "<style scoped>\n",
       "    .dataframe tbody tr th:only-of-type {\n",
       "        vertical-align: middle;\n",
       "    }\n",
       "\n",
       "    .dataframe tbody tr th {\n",
       "        vertical-align: top;\n",
       "    }\n",
       "\n",
       "    .dataframe thead th {\n",
       "        text-align: right;\n",
       "    }\n",
       "</style>\n",
       "<table border=\"1\" class=\"dataframe\">\n",
       "  <thead>\n",
       "    <tr style=\"text-align: right;\">\n",
       "      <th></th>\n",
       "      <th>Year</th>\n",
       "      <th>Category</th>\n",
       "      <th>Nominee</th>\n",
       "      <th>Additional Info</th>\n",
       "      <th>Won?</th>\n",
       "      <th>Unnamed: 5</th>\n",
       "      <th>Unnamed: 6</th>\n",
       "      <th>Unnamed: 7</th>\n",
       "      <th>Unnamed: 8</th>\n",
       "      <th>Unnamed: 9</th>\n",
       "      <th>Unnamed: 10</th>\n",
       "    </tr>\n",
       "  </thead>\n",
       "  <tbody>\n",
       "    <tr>\n",
       "      <th>0</th>\n",
       "      <td>2010</td>\n",
       "      <td>Actor -- Leading Role</td>\n",
       "      <td>Javier Bardem</td>\n",
       "      <td>Biutiful {'Uxbal'}</td>\n",
       "      <td>NO</td>\n",
       "      <td>NaN</td>\n",
       "      <td>NaN</td>\n",
       "      <td>NaN</td>\n",
       "      <td>NaN</td>\n",
       "      <td>NaN</td>\n",
       "      <td>NaN</td>\n",
       "    </tr>\n",
       "    <tr>\n",
       "      <th>1</th>\n",
       "      <td>2010</td>\n",
       "      <td>Actor -- Leading Role</td>\n",
       "      <td>Jeff Bridges</td>\n",
       "      <td>True Grit {'Rooster Cogburn'}</td>\n",
       "      <td>NO</td>\n",
       "      <td>NaN</td>\n",
       "      <td>NaN</td>\n",
       "      <td>NaN</td>\n",
       "      <td>NaN</td>\n",
       "      <td>NaN</td>\n",
       "      <td>NaN</td>\n",
       "    </tr>\n",
       "    <tr>\n",
       "      <th>2</th>\n",
       "      <td>2010</td>\n",
       "      <td>Actor -- Leading Role</td>\n",
       "      <td>Jesse Eisenberg</td>\n",
       "      <td>The Social Network {'Mark Zuckerberg'}</td>\n",
       "      <td>NO</td>\n",
       "      <td>NaN</td>\n",
       "      <td>NaN</td>\n",
       "      <td>NaN</td>\n",
       "      <td>NaN</td>\n",
       "      <td>NaN</td>\n",
       "      <td>NaN</td>\n",
       "    </tr>\n",
       "    <tr>\n",
       "      <th>3</th>\n",
       "      <td>2010</td>\n",
       "      <td>Actor -- Leading Role</td>\n",
       "      <td>Colin Firth</td>\n",
       "      <td>The King's Speech {'King George VI'}</td>\n",
       "      <td>YES</td>\n",
       "      <td>NaN</td>\n",
       "      <td>NaN</td>\n",
       "      <td>NaN</td>\n",
       "      <td>NaN</td>\n",
       "      <td>NaN</td>\n",
       "      <td>NaN</td>\n",
       "    </tr>\n",
       "    <tr>\n",
       "      <th>4</th>\n",
       "      <td>2010</td>\n",
       "      <td>Actor -- Leading Role</td>\n",
       "      <td>James Franco</td>\n",
       "      <td>127 Hours {'Aron Ralston'}</td>\n",
       "      <td>NO</td>\n",
       "      <td>NaN</td>\n",
       "      <td>NaN</td>\n",
       "      <td>NaN</td>\n",
       "      <td>NaN</td>\n",
       "      <td>NaN</td>\n",
       "      <td>NaN</td>\n",
       "    </tr>\n",
       "  </tbody>\n",
       "</table>\n",
       "</div>"
      ],
      "text/plain": [
       "   Year               Category          Nominee  \\\n",
       "0  2010  Actor -- Leading Role    Javier Bardem   \n",
       "1  2010  Actor -- Leading Role     Jeff Bridges   \n",
       "2  2010  Actor -- Leading Role  Jesse Eisenberg   \n",
       "3  2010  Actor -- Leading Role      Colin Firth   \n",
       "4  2010  Actor -- Leading Role     James Franco   \n",
       "\n",
       "                          Additional Info Won? Unnamed: 5 Unnamed: 6  \\\n",
       "0                      Biutiful {'Uxbal'}   NO        NaN        NaN   \n",
       "1           True Grit {'Rooster Cogburn'}   NO        NaN        NaN   \n",
       "2  The Social Network {'Mark Zuckerberg'}   NO        NaN        NaN   \n",
       "3    The King's Speech {'King George VI'}  YES        NaN        NaN   \n",
       "4              127 Hours {'Aron Ralston'}   NO        NaN        NaN   \n",
       "\n",
       "  Unnamed: 7 Unnamed: 8 Unnamed: 9 Unnamed: 10  \n",
       "0        NaN        NaN        NaN         NaN  \n",
       "1        NaN        NaN        NaN         NaN  \n",
       "2        NaN        NaN        NaN         NaN  \n",
       "3        NaN        NaN        NaN         NaN  \n",
       "4        NaN        NaN        NaN         NaN  "
      ]
     },
     "execution_count": 23,
     "metadata": {},
     "output_type": "execute_result"
    }
   ],
   "source": [
    "nominations.head()\n"
   ]
  },
  {
   "cell_type": "code",
   "execution_count": 24,
   "id": "fa949b1b",
   "metadata": {},
   "outputs": [
    {
     "data": {
      "text/plain": [
       "(100, 11)"
      ]
     },
     "execution_count": 24,
     "metadata": {},
     "output_type": "execute_result"
    }
   ],
   "source": [
    "nominations.shape\n"
   ]
  },
  {
   "cell_type": "markdown",
   "id": "1e90d125",
   "metadata": {},
   "source": [
    "## Nettoyer les colonnes Unnamed et Won?"
   ]
  },
  {
   "cell_type": "code",
   "execution_count": 25,
   "id": "cc52b8fb",
   "metadata": {},
   "outputs": [],
   "source": [
    "replacements = {\"NO\":0, \"YES\":1}"
   ]
  },
  {
   "cell_type": "code",
   "execution_count": 26,
   "id": "c8729897",
   "metadata": {},
   "outputs": [
    {
     "name": "stderr",
     "output_type": "stream",
     "text": [
      "C:\\Users\\test\\AppData\\Local\\Temp/ipykernel_16296/3758903015.py:1: SettingWithCopyWarning: \n",
      "A value is trying to be set on a copy of a slice from a DataFrame.\n",
      "Try using .loc[row_indexer,col_indexer] = value instead\n",
      "\n",
      "See the caveats in the documentation: https://pandas.pydata.org/pandas-docs/stable/user_guide/indexing.html#returning-a-view-versus-a-copy\n",
      "  nominations['Won?'] = nominations['Won?'].map(replacements)\n"
     ]
    }
   ],
   "source": [
    "nominations['Won?'] = nominations['Won?'].map(replacements)"
   ]
  },
  {
   "cell_type": "code",
   "execution_count": 27,
   "id": "9c54a1f4",
   "metadata": {},
   "outputs": [
    {
     "name": "stderr",
     "output_type": "stream",
     "text": [
      "C:\\Users\\test\\AppData\\Local\\Temp/ipykernel_16296/1733880734.py:1: SettingWithCopyWarning: \n",
      "A value is trying to be set on a copy of a slice from a DataFrame.\n",
      "Try using .loc[row_indexer,col_indexer] = value instead\n",
      "\n",
      "See the caveats in the documentation: https://pandas.pydata.org/pandas-docs/stable/user_guide/indexing.html#returning-a-view-versus-a-copy\n",
      "  nominations['Won'] = nominations['Won?']\n"
     ]
    }
   ],
   "source": [
    "nominations['Won'] = nominations['Won?']"
   ]
  },
  {
   "cell_type": "code",
   "execution_count": 28,
   "id": "b71f9d36",
   "metadata": {},
   "outputs": [
    {
     "data": {
      "text/html": [
       "<div>\n",
       "<style scoped>\n",
       "    .dataframe tbody tr th:only-of-type {\n",
       "        vertical-align: middle;\n",
       "    }\n",
       "\n",
       "    .dataframe tbody tr th {\n",
       "        vertical-align: top;\n",
       "    }\n",
       "\n",
       "    .dataframe thead th {\n",
       "        text-align: right;\n",
       "    }\n",
       "</style>\n",
       "<table border=\"1\" class=\"dataframe\">\n",
       "  <thead>\n",
       "    <tr style=\"text-align: right;\">\n",
       "      <th></th>\n",
       "      <th>Year</th>\n",
       "      <th>Category</th>\n",
       "      <th>Nominee</th>\n",
       "      <th>Additional Info</th>\n",
       "      <th>Won?</th>\n",
       "      <th>Unnamed: 5</th>\n",
       "      <th>Unnamed: 6</th>\n",
       "      <th>Unnamed: 7</th>\n",
       "      <th>Unnamed: 8</th>\n",
       "      <th>Unnamed: 9</th>\n",
       "      <th>Unnamed: 10</th>\n",
       "      <th>Won</th>\n",
       "    </tr>\n",
       "  </thead>\n",
       "  <tbody>\n",
       "    <tr>\n",
       "      <th>0</th>\n",
       "      <td>2010</td>\n",
       "      <td>Actor -- Leading Role</td>\n",
       "      <td>Javier Bardem</td>\n",
       "      <td>Biutiful {'Uxbal'}</td>\n",
       "      <td>0</td>\n",
       "      <td>NaN</td>\n",
       "      <td>NaN</td>\n",
       "      <td>NaN</td>\n",
       "      <td>NaN</td>\n",
       "      <td>NaN</td>\n",
       "      <td>NaN</td>\n",
       "      <td>0</td>\n",
       "    </tr>\n",
       "    <tr>\n",
       "      <th>1</th>\n",
       "      <td>2010</td>\n",
       "      <td>Actor -- Leading Role</td>\n",
       "      <td>Jeff Bridges</td>\n",
       "      <td>True Grit {'Rooster Cogburn'}</td>\n",
       "      <td>0</td>\n",
       "      <td>NaN</td>\n",
       "      <td>NaN</td>\n",
       "      <td>NaN</td>\n",
       "      <td>NaN</td>\n",
       "      <td>NaN</td>\n",
       "      <td>NaN</td>\n",
       "      <td>0</td>\n",
       "    </tr>\n",
       "    <tr>\n",
       "      <th>2</th>\n",
       "      <td>2010</td>\n",
       "      <td>Actor -- Leading Role</td>\n",
       "      <td>Jesse Eisenberg</td>\n",
       "      <td>The Social Network {'Mark Zuckerberg'}</td>\n",
       "      <td>0</td>\n",
       "      <td>NaN</td>\n",
       "      <td>NaN</td>\n",
       "      <td>NaN</td>\n",
       "      <td>NaN</td>\n",
       "      <td>NaN</td>\n",
       "      <td>NaN</td>\n",
       "      <td>0</td>\n",
       "    </tr>\n",
       "    <tr>\n",
       "      <th>3</th>\n",
       "      <td>2010</td>\n",
       "      <td>Actor -- Leading Role</td>\n",
       "      <td>Colin Firth</td>\n",
       "      <td>The King's Speech {'King George VI'}</td>\n",
       "      <td>1</td>\n",
       "      <td>NaN</td>\n",
       "      <td>NaN</td>\n",
       "      <td>NaN</td>\n",
       "      <td>NaN</td>\n",
       "      <td>NaN</td>\n",
       "      <td>NaN</td>\n",
       "      <td>1</td>\n",
       "    </tr>\n",
       "    <tr>\n",
       "      <th>4</th>\n",
       "      <td>2010</td>\n",
       "      <td>Actor -- Leading Role</td>\n",
       "      <td>James Franco</td>\n",
       "      <td>127 Hours {'Aron Ralston'}</td>\n",
       "      <td>0</td>\n",
       "      <td>NaN</td>\n",
       "      <td>NaN</td>\n",
       "      <td>NaN</td>\n",
       "      <td>NaN</td>\n",
       "      <td>NaN</td>\n",
       "      <td>NaN</td>\n",
       "      <td>0</td>\n",
       "    </tr>\n",
       "  </tbody>\n",
       "</table>\n",
       "</div>"
      ],
      "text/plain": [
       "   Year               Category          Nominee  \\\n",
       "0  2010  Actor -- Leading Role    Javier Bardem   \n",
       "1  2010  Actor -- Leading Role     Jeff Bridges   \n",
       "2  2010  Actor -- Leading Role  Jesse Eisenberg   \n",
       "3  2010  Actor -- Leading Role      Colin Firth   \n",
       "4  2010  Actor -- Leading Role     James Franco   \n",
       "\n",
       "                          Additional Info  Won? Unnamed: 5 Unnamed: 6  \\\n",
       "0                      Biutiful {'Uxbal'}     0        NaN        NaN   \n",
       "1           True Grit {'Rooster Cogburn'}     0        NaN        NaN   \n",
       "2  The Social Network {'Mark Zuckerberg'}     0        NaN        NaN   \n",
       "3    The King's Speech {'King George VI'}     1        NaN        NaN   \n",
       "4              127 Hours {'Aron Ralston'}     0        NaN        NaN   \n",
       "\n",
       "  Unnamed: 7 Unnamed: 8 Unnamed: 9 Unnamed: 10  Won  \n",
       "0        NaN        NaN        NaN         NaN    0  \n",
       "1        NaN        NaN        NaN         NaN    0  \n",
       "2        NaN        NaN        NaN         NaN    0  \n",
       "3        NaN        NaN        NaN         NaN    1  \n",
       "4        NaN        NaN        NaN         NaN    0  "
      ]
     },
     "execution_count": 28,
     "metadata": {},
     "output_type": "execute_result"
    }
   ],
   "source": [
    "nominations.head()"
   ]
  },
  {
   "cell_type": "code",
   "execution_count": 29,
   "id": "334c6d30",
   "metadata": {},
   "outputs": [],
   "source": [
    "# Suppression de toutes les colonnes inutiles\n",
    "drop_cols = [\"Won?\", \"Unnamed: 5\",\"Unnamed: 6\",\"Unnamed: 7\",\"Unnamed: 8\",\"Unnamed: 9\",\"Unnamed: 10\"]"
   ]
  },
  {
   "cell_type": "code",
   "execution_count": 30,
   "id": "71f208f8",
   "metadata": {},
   "outputs": [
    {
     "data": {
      "text/html": [
       "<div>\n",
       "<style scoped>\n",
       "    .dataframe tbody tr th:only-of-type {\n",
       "        vertical-align: middle;\n",
       "    }\n",
       "\n",
       "    .dataframe tbody tr th {\n",
       "        vertical-align: top;\n",
       "    }\n",
       "\n",
       "    .dataframe thead th {\n",
       "        text-align: right;\n",
       "    }\n",
       "</style>\n",
       "<table border=\"1\" class=\"dataframe\">\n",
       "  <thead>\n",
       "    <tr style=\"text-align: right;\">\n",
       "      <th></th>\n",
       "      <th>Year</th>\n",
       "      <th>Category</th>\n",
       "      <th>Nominee</th>\n",
       "      <th>Additional Info</th>\n",
       "      <th>Won?</th>\n",
       "      <th>Unnamed: 5</th>\n",
       "      <th>Unnamed: 6</th>\n",
       "      <th>Unnamed: 7</th>\n",
       "      <th>Unnamed: 8</th>\n",
       "      <th>Unnamed: 9</th>\n",
       "      <th>Unnamed: 10</th>\n",
       "      <th>Won</th>\n",
       "    </tr>\n",
       "  </thead>\n",
       "  <tbody>\n",
       "    <tr>\n",
       "      <th>0</th>\n",
       "      <td>2010</td>\n",
       "      <td>Actor -- Leading Role</td>\n",
       "      <td>Javier Bardem</td>\n",
       "      <td>Biutiful {'Uxbal'}</td>\n",
       "      <td>0</td>\n",
       "      <td>NaN</td>\n",
       "      <td>NaN</td>\n",
       "      <td>NaN</td>\n",
       "      <td>NaN</td>\n",
       "      <td>NaN</td>\n",
       "      <td>NaN</td>\n",
       "      <td>0</td>\n",
       "    </tr>\n",
       "    <tr>\n",
       "      <th>1</th>\n",
       "      <td>2010</td>\n",
       "      <td>Actor -- Leading Role</td>\n",
       "      <td>Jeff Bridges</td>\n",
       "      <td>True Grit {'Rooster Cogburn'}</td>\n",
       "      <td>0</td>\n",
       "      <td>NaN</td>\n",
       "      <td>NaN</td>\n",
       "      <td>NaN</td>\n",
       "      <td>NaN</td>\n",
       "      <td>NaN</td>\n",
       "      <td>NaN</td>\n",
       "      <td>0</td>\n",
       "    </tr>\n",
       "    <tr>\n",
       "      <th>2</th>\n",
       "      <td>2010</td>\n",
       "      <td>Actor -- Leading Role</td>\n",
       "      <td>Jesse Eisenberg</td>\n",
       "      <td>The Social Network {'Mark Zuckerberg'}</td>\n",
       "      <td>0</td>\n",
       "      <td>NaN</td>\n",
       "      <td>NaN</td>\n",
       "      <td>NaN</td>\n",
       "      <td>NaN</td>\n",
       "      <td>NaN</td>\n",
       "      <td>NaN</td>\n",
       "      <td>0</td>\n",
       "    </tr>\n",
       "    <tr>\n",
       "      <th>3</th>\n",
       "      <td>2010</td>\n",
       "      <td>Actor -- Leading Role</td>\n",
       "      <td>Colin Firth</td>\n",
       "      <td>The King's Speech {'King George VI'}</td>\n",
       "      <td>1</td>\n",
       "      <td>NaN</td>\n",
       "      <td>NaN</td>\n",
       "      <td>NaN</td>\n",
       "      <td>NaN</td>\n",
       "      <td>NaN</td>\n",
       "      <td>NaN</td>\n",
       "      <td>1</td>\n",
       "    </tr>\n",
       "    <tr>\n",
       "      <th>4</th>\n",
       "      <td>2010</td>\n",
       "      <td>Actor -- Leading Role</td>\n",
       "      <td>James Franco</td>\n",
       "      <td>127 Hours {'Aron Ralston'}</td>\n",
       "      <td>0</td>\n",
       "      <td>NaN</td>\n",
       "      <td>NaN</td>\n",
       "      <td>NaN</td>\n",
       "      <td>NaN</td>\n",
       "      <td>NaN</td>\n",
       "      <td>NaN</td>\n",
       "      <td>0</td>\n",
       "    </tr>\n",
       "  </tbody>\n",
       "</table>\n",
       "</div>"
      ],
      "text/plain": [
       "   Year               Category          Nominee  \\\n",
       "0  2010  Actor -- Leading Role    Javier Bardem   \n",
       "1  2010  Actor -- Leading Role     Jeff Bridges   \n",
       "2  2010  Actor -- Leading Role  Jesse Eisenberg   \n",
       "3  2010  Actor -- Leading Role      Colin Firth   \n",
       "4  2010  Actor -- Leading Role     James Franco   \n",
       "\n",
       "                          Additional Info  Won? Unnamed: 5 Unnamed: 6  \\\n",
       "0                      Biutiful {'Uxbal'}     0        NaN        NaN   \n",
       "1           True Grit {'Rooster Cogburn'}     0        NaN        NaN   \n",
       "2  The Social Network {'Mark Zuckerberg'}     0        NaN        NaN   \n",
       "3    The King's Speech {'King George VI'}     1        NaN        NaN   \n",
       "4              127 Hours {'Aron Ralston'}     0        NaN        NaN   \n",
       "\n",
       "  Unnamed: 7 Unnamed: 8 Unnamed: 9 Unnamed: 10  Won  \n",
       "0        NaN        NaN        NaN         NaN    0  \n",
       "1        NaN        NaN        NaN         NaN    0  \n",
       "2        NaN        NaN        NaN         NaN    0  \n",
       "3        NaN        NaN        NaN         NaN    1  \n",
       "4        NaN        NaN        NaN         NaN    0  "
      ]
     },
     "execution_count": 30,
     "metadata": {},
     "output_type": "execute_result"
    }
   ],
   "source": [
    "nominations.head()"
   ]
  },
  {
   "cell_type": "code",
   "execution_count": 31,
   "id": "a1ba8e0e",
   "metadata": {},
   "outputs": [],
   "source": [
    "final_nominations = nominations.drop(drop_cols, axis=1)"
   ]
  },
  {
   "cell_type": "code",
   "execution_count": 32,
   "id": "d0b71b66",
   "metadata": {},
   "outputs": [
    {
     "data": {
      "text/html": [
       "<div>\n",
       "<style scoped>\n",
       "    .dataframe tbody tr th:only-of-type {\n",
       "        vertical-align: middle;\n",
       "    }\n",
       "\n",
       "    .dataframe tbody tr th {\n",
       "        vertical-align: top;\n",
       "    }\n",
       "\n",
       "    .dataframe thead th {\n",
       "        text-align: right;\n",
       "    }\n",
       "</style>\n",
       "<table border=\"1\" class=\"dataframe\">\n",
       "  <thead>\n",
       "    <tr style=\"text-align: right;\">\n",
       "      <th></th>\n",
       "      <th>Year</th>\n",
       "      <th>Category</th>\n",
       "      <th>Nominee</th>\n",
       "      <th>Additional Info</th>\n",
       "      <th>Won</th>\n",
       "    </tr>\n",
       "  </thead>\n",
       "  <tbody>\n",
       "    <tr>\n",
       "      <th>0</th>\n",
       "      <td>2010</td>\n",
       "      <td>Actor -- Leading Role</td>\n",
       "      <td>Javier Bardem</td>\n",
       "      <td>Biutiful {'Uxbal'}</td>\n",
       "      <td>0</td>\n",
       "    </tr>\n",
       "    <tr>\n",
       "      <th>1</th>\n",
       "      <td>2010</td>\n",
       "      <td>Actor -- Leading Role</td>\n",
       "      <td>Jeff Bridges</td>\n",
       "      <td>True Grit {'Rooster Cogburn'}</td>\n",
       "      <td>0</td>\n",
       "    </tr>\n",
       "    <tr>\n",
       "      <th>2</th>\n",
       "      <td>2010</td>\n",
       "      <td>Actor -- Leading Role</td>\n",
       "      <td>Jesse Eisenberg</td>\n",
       "      <td>The Social Network {'Mark Zuckerberg'}</td>\n",
       "      <td>0</td>\n",
       "    </tr>\n",
       "    <tr>\n",
       "      <th>3</th>\n",
       "      <td>2010</td>\n",
       "      <td>Actor -- Leading Role</td>\n",
       "      <td>Colin Firth</td>\n",
       "      <td>The King's Speech {'King George VI'}</td>\n",
       "      <td>1</td>\n",
       "    </tr>\n",
       "    <tr>\n",
       "      <th>4</th>\n",
       "      <td>2010</td>\n",
       "      <td>Actor -- Leading Role</td>\n",
       "      <td>James Franco</td>\n",
       "      <td>127 Hours {'Aron Ralston'}</td>\n",
       "      <td>0</td>\n",
       "    </tr>\n",
       "  </tbody>\n",
       "</table>\n",
       "</div>"
      ],
      "text/plain": [
       "   Year               Category          Nominee  \\\n",
       "0  2010  Actor -- Leading Role    Javier Bardem   \n",
       "1  2010  Actor -- Leading Role     Jeff Bridges   \n",
       "2  2010  Actor -- Leading Role  Jesse Eisenberg   \n",
       "3  2010  Actor -- Leading Role      Colin Firth   \n",
       "4  2010  Actor -- Leading Role     James Franco   \n",
       "\n",
       "                          Additional Info  Won  \n",
       "0                      Biutiful {'Uxbal'}    0  \n",
       "1           True Grit {'Rooster Cogburn'}    0  \n",
       "2  The Social Network {'Mark Zuckerberg'}    0  \n",
       "3    The King's Speech {'King George VI'}    1  \n",
       "4              127 Hours {'Aron Ralston'}    0  "
      ]
     },
     "execution_count": 32,
     "metadata": {},
     "output_type": "execute_result"
    }
   ],
   "source": [
    "final_nominations.head()"
   ]
  },
  {
   "cell_type": "markdown",
   "id": "fc6d68ce",
   "metadata": {},
   "source": [
    "## Nettoyage de la colonne Additional Info"
   ]
  },
  {
   "cell_type": "code",
   "execution_count": 33,
   "id": "73b22998",
   "metadata": {},
   "outputs": [],
   "source": [
    "# FILM {'PERSONNAGE'}\n",
    "# Biutiful {'Uxbal'}\n",
    "# The Social Network --> Mark Zuckerberg"
   ]
  },
  {
   "cell_type": "code",
   "execution_count": 34,
   "id": "dc9235eb",
   "metadata": {},
   "outputs": [],
   "source": [
    "# Méthode pour néttoyer une colonne\n",
    "additional_info_one = final_nominations['Additional Info'].str.rstrip(\"'}\")"
   ]
  },
  {
   "cell_type": "code",
   "execution_count": 35,
   "id": "96609c9e",
   "metadata": {},
   "outputs": [
    {
     "data": {
      "text/plain": [
       "0                        Biutiful {'Uxbal\n",
       "1             True Grit {'Rooster Cogburn\n",
       "2    The Social Network {'Mark Zuckerberg\n",
       "3      The King's Speech {'King George VI\n",
       "4                127 Hours {'Aron Ralston\n",
       "Name: Additional Info, dtype: object"
      ]
     },
     "execution_count": 35,
     "metadata": {},
     "output_type": "execute_result"
    }
   ],
   "source": [
    "additional_info_one.head()"
   ]
  },
  {
   "cell_type": "code",
   "execution_count": 37,
   "id": "c57896bd",
   "metadata": {},
   "outputs": [],
   "source": [
    "# Méthode pour séparer 2 éléments\n",
    "additionnal_info_two = additional_info_one.str.split(\" {'\", expand=True)"
   ]
  },
  {
   "cell_type": "code",
   "execution_count": 38,
   "id": "fa45883c",
   "metadata": {},
   "outputs": [
    {
     "data": {
      "text/html": [
       "<div>\n",
       "<style scoped>\n",
       "    .dataframe tbody tr th:only-of-type {\n",
       "        vertical-align: middle;\n",
       "    }\n",
       "\n",
       "    .dataframe tbody tr th {\n",
       "        vertical-align: top;\n",
       "    }\n",
       "\n",
       "    .dataframe thead th {\n",
       "        text-align: right;\n",
       "    }\n",
       "</style>\n",
       "<table border=\"1\" class=\"dataframe\">\n",
       "  <thead>\n",
       "    <tr style=\"text-align: right;\">\n",
       "      <th></th>\n",
       "      <th>0</th>\n",
       "      <th>1</th>\n",
       "    </tr>\n",
       "  </thead>\n",
       "  <tbody>\n",
       "    <tr>\n",
       "      <th>0</th>\n",
       "      <td>Biutiful</td>\n",
       "      <td>Uxbal</td>\n",
       "    </tr>\n",
       "    <tr>\n",
       "      <th>1</th>\n",
       "      <td>True Grit</td>\n",
       "      <td>Rooster Cogburn</td>\n",
       "    </tr>\n",
       "    <tr>\n",
       "      <th>2</th>\n",
       "      <td>The Social Network</td>\n",
       "      <td>Mark Zuckerberg</td>\n",
       "    </tr>\n",
       "    <tr>\n",
       "      <th>3</th>\n",
       "      <td>The King's Speech</td>\n",
       "      <td>King George VI</td>\n",
       "    </tr>\n",
       "    <tr>\n",
       "      <th>4</th>\n",
       "      <td>127 Hours</td>\n",
       "      <td>Aron Ralston</td>\n",
       "    </tr>\n",
       "  </tbody>\n",
       "</table>\n",
       "</div>"
      ],
      "text/plain": [
       "                    0                1\n",
       "0            Biutiful            Uxbal\n",
       "1           True Grit  Rooster Cogburn\n",
       "2  The Social Network  Mark Zuckerberg\n",
       "3   The King's Speech   King George VI\n",
       "4           127 Hours     Aron Ralston"
      ]
     },
     "execution_count": 38,
     "metadata": {},
     "output_type": "execute_result"
    }
   ],
   "source": [
    "additionnal_info_two.head()"
   ]
  },
  {
   "cell_type": "code",
   "execution_count": 39,
   "id": "95922e21",
   "metadata": {},
   "outputs": [
    {
     "data": {
      "text/plain": [
       "0              Biutiful\n",
       "1             True Grit\n",
       "2    The Social Network\n",
       "3     The King's Speech\n",
       "4             127 Hours\n",
       "Name: 0, dtype: object"
      ]
     },
     "execution_count": 39,
     "metadata": {},
     "output_type": "execute_result"
    }
   ],
   "source": [
    "movie_names = additionnal_info_two[0]\n",
    "movie_names.head()\n"
   ]
  },
  {
   "cell_type": "code",
   "execution_count": 40,
   "id": "ede3f19b",
   "metadata": {},
   "outputs": [
    {
     "data": {
      "text/plain": [
       "0              Uxbal\n",
       "1    Rooster Cogburn\n",
       "2    Mark Zuckerberg\n",
       "3     King George VI\n",
       "4       Aron Ralston\n",
       "Name: 1, dtype: object"
      ]
     },
     "execution_count": 40,
     "metadata": {},
     "output_type": "execute_result"
    }
   ],
   "source": [
    "characters = additionnal_info_two[1]\n",
    "characters.head()"
   ]
  },
  {
   "cell_type": "code",
   "execution_count": 41,
   "id": "e3b42dd6",
   "metadata": {},
   "outputs": [
    {
     "data": {
      "text/html": [
       "<div>\n",
       "<style scoped>\n",
       "    .dataframe tbody tr th:only-of-type {\n",
       "        vertical-align: middle;\n",
       "    }\n",
       "\n",
       "    .dataframe tbody tr th {\n",
       "        vertical-align: top;\n",
       "    }\n",
       "\n",
       "    .dataframe thead th {\n",
       "        text-align: right;\n",
       "    }\n",
       "</style>\n",
       "<table border=\"1\" class=\"dataframe\">\n",
       "  <thead>\n",
       "    <tr style=\"text-align: right;\">\n",
       "      <th></th>\n",
       "      <th>Year</th>\n",
       "      <th>Category</th>\n",
       "      <th>Nominee</th>\n",
       "      <th>Additional Info</th>\n",
       "      <th>Won</th>\n",
       "      <th>Movie</th>\n",
       "      <th>Character</th>\n",
       "    </tr>\n",
       "  </thead>\n",
       "  <tbody>\n",
       "    <tr>\n",
       "      <th>0</th>\n",
       "      <td>2010</td>\n",
       "      <td>Actor -- Leading Role</td>\n",
       "      <td>Javier Bardem</td>\n",
       "      <td>Biutiful {'Uxbal'}</td>\n",
       "      <td>0</td>\n",
       "      <td>Biutiful</td>\n",
       "      <td>Uxbal</td>\n",
       "    </tr>\n",
       "    <tr>\n",
       "      <th>1</th>\n",
       "      <td>2010</td>\n",
       "      <td>Actor -- Leading Role</td>\n",
       "      <td>Jeff Bridges</td>\n",
       "      <td>True Grit {'Rooster Cogburn'}</td>\n",
       "      <td>0</td>\n",
       "      <td>True Grit</td>\n",
       "      <td>Rooster Cogburn</td>\n",
       "    </tr>\n",
       "    <tr>\n",
       "      <th>2</th>\n",
       "      <td>2010</td>\n",
       "      <td>Actor -- Leading Role</td>\n",
       "      <td>Jesse Eisenberg</td>\n",
       "      <td>The Social Network {'Mark Zuckerberg'}</td>\n",
       "      <td>0</td>\n",
       "      <td>The Social Network</td>\n",
       "      <td>Mark Zuckerberg</td>\n",
       "    </tr>\n",
       "    <tr>\n",
       "      <th>3</th>\n",
       "      <td>2010</td>\n",
       "      <td>Actor -- Leading Role</td>\n",
       "      <td>Colin Firth</td>\n",
       "      <td>The King's Speech {'King George VI'}</td>\n",
       "      <td>1</td>\n",
       "      <td>The King's Speech</td>\n",
       "      <td>King George VI</td>\n",
       "    </tr>\n",
       "    <tr>\n",
       "      <th>4</th>\n",
       "      <td>2010</td>\n",
       "      <td>Actor -- Leading Role</td>\n",
       "      <td>James Franco</td>\n",
       "      <td>127 Hours {'Aron Ralston'}</td>\n",
       "      <td>0</td>\n",
       "      <td>127 Hours</td>\n",
       "      <td>Aron Ralston</td>\n",
       "    </tr>\n",
       "  </tbody>\n",
       "</table>\n",
       "</div>"
      ],
      "text/plain": [
       "   Year               Category          Nominee  \\\n",
       "0  2010  Actor -- Leading Role    Javier Bardem   \n",
       "1  2010  Actor -- Leading Role     Jeff Bridges   \n",
       "2  2010  Actor -- Leading Role  Jesse Eisenberg   \n",
       "3  2010  Actor -- Leading Role      Colin Firth   \n",
       "4  2010  Actor -- Leading Role     James Franco   \n",
       "\n",
       "                          Additional Info  Won               Movie  \\\n",
       "0                      Biutiful {'Uxbal'}    0            Biutiful   \n",
       "1           True Grit {'Rooster Cogburn'}    0           True Grit   \n",
       "2  The Social Network {'Mark Zuckerberg'}    0  The Social Network   \n",
       "3    The King's Speech {'King George VI'}    1   The King's Speech   \n",
       "4              127 Hours {'Aron Ralston'}    0           127 Hours   \n",
       "\n",
       "         Character  \n",
       "0            Uxbal  \n",
       "1  Rooster Cogburn  \n",
       "2  Mark Zuckerberg  \n",
       "3   King George VI  \n",
       "4     Aron Ralston  "
      ]
     },
     "execution_count": 41,
     "metadata": {},
     "output_type": "execute_result"
    }
   ],
   "source": [
    "# On va ajouter nos 2 nouvelles colonnes au tableau final_nominations\n",
    "final_nominations['Movie'] = movie_names\n",
    "final_nominations['Character'] = characters\n",
    "final_nominations.head()"
   ]
  },
  {
   "cell_type": "code",
   "execution_count": 42,
   "id": "a8d6e3ee",
   "metadata": {},
   "outputs": [
    {
     "data": {
      "text/html": [
       "<div>\n",
       "<style scoped>\n",
       "    .dataframe tbody tr th:only-of-type {\n",
       "        vertical-align: middle;\n",
       "    }\n",
       "\n",
       "    .dataframe tbody tr th {\n",
       "        vertical-align: top;\n",
       "    }\n",
       "\n",
       "    .dataframe thead th {\n",
       "        text-align: right;\n",
       "    }\n",
       "</style>\n",
       "<table border=\"1\" class=\"dataframe\">\n",
       "  <thead>\n",
       "    <tr style=\"text-align: right;\">\n",
       "      <th></th>\n",
       "      <th>Year</th>\n",
       "      <th>Category</th>\n",
       "      <th>Nominee</th>\n",
       "      <th>Won</th>\n",
       "      <th>Movie</th>\n",
       "      <th>Character</th>\n",
       "    </tr>\n",
       "  </thead>\n",
       "  <tbody>\n",
       "    <tr>\n",
       "      <th>0</th>\n",
       "      <td>2010</td>\n",
       "      <td>Actor -- Leading Role</td>\n",
       "      <td>Javier Bardem</td>\n",
       "      <td>0</td>\n",
       "      <td>Biutiful</td>\n",
       "      <td>Uxbal</td>\n",
       "    </tr>\n",
       "    <tr>\n",
       "      <th>1</th>\n",
       "      <td>2010</td>\n",
       "      <td>Actor -- Leading Role</td>\n",
       "      <td>Jeff Bridges</td>\n",
       "      <td>0</td>\n",
       "      <td>True Grit</td>\n",
       "      <td>Rooster Cogburn</td>\n",
       "    </tr>\n",
       "    <tr>\n",
       "      <th>2</th>\n",
       "      <td>2010</td>\n",
       "      <td>Actor -- Leading Role</td>\n",
       "      <td>Jesse Eisenberg</td>\n",
       "      <td>0</td>\n",
       "      <td>The Social Network</td>\n",
       "      <td>Mark Zuckerberg</td>\n",
       "    </tr>\n",
       "    <tr>\n",
       "      <th>3</th>\n",
       "      <td>2010</td>\n",
       "      <td>Actor -- Leading Role</td>\n",
       "      <td>Colin Firth</td>\n",
       "      <td>1</td>\n",
       "      <td>The King's Speech</td>\n",
       "      <td>King George VI</td>\n",
       "    </tr>\n",
       "    <tr>\n",
       "      <th>4</th>\n",
       "      <td>2010</td>\n",
       "      <td>Actor -- Leading Role</td>\n",
       "      <td>James Franco</td>\n",
       "      <td>0</td>\n",
       "      <td>127 Hours</td>\n",
       "      <td>Aron Ralston</td>\n",
       "    </tr>\n",
       "  </tbody>\n",
       "</table>\n",
       "</div>"
      ],
      "text/plain": [
       "   Year               Category          Nominee  Won               Movie  \\\n",
       "0  2010  Actor -- Leading Role    Javier Bardem    0            Biutiful   \n",
       "1  2010  Actor -- Leading Role     Jeff Bridges    0           True Grit   \n",
       "2  2010  Actor -- Leading Role  Jesse Eisenberg    0  The Social Network   \n",
       "3  2010  Actor -- Leading Role      Colin Firth    1   The King's Speech   \n",
       "4  2010  Actor -- Leading Role     James Franco    0           127 Hours   \n",
       "\n",
       "         Character  \n",
       "0            Uxbal  \n",
       "1  Rooster Cogburn  \n",
       "2  Mark Zuckerberg  \n",
       "3   King George VI  \n",
       "4     Aron Ralston  "
      ]
     },
     "execution_count": 42,
     "metadata": {},
     "output_type": "execute_result"
    }
   ],
   "source": [
    "final_nominations.drop(['Additional Info'], axis=1, inplace=True)\n",
    "final_nominations.head()"
   ]
  },
  {
   "cell_type": "markdown",
   "id": "4babe3ca",
   "metadata": {},
   "source": [
    "## Exportation sur SQLite"
   ]
  },
  {
   "cell_type": "code",
   "execution_count": 43,
   "id": "5b5c086d",
   "metadata": {},
   "outputs": [],
   "source": [
    "# to_sql(name, connexion)"
   ]
  },
  {
   "cell_type": "code",
   "execution_count": 44,
   "id": "ba7b3e9d",
   "metadata": {},
   "outputs": [
    {
     "data": {
      "text/plain": [
       "Year          int32\n",
       "Category     object\n",
       "Nominee      object\n",
       "Won           int64\n",
       "Movie        object\n",
       "Character    object\n",
       "dtype: object"
      ]
     },
     "execution_count": 44,
     "metadata": {},
     "output_type": "execute_result"
    }
   ],
   "source": [
    "final_nominations.dtypes"
   ]
  },
  {
   "cell_type": "code",
   "execution_count": 45,
   "id": "cca69d8f",
   "metadata": {},
   "outputs": [],
   "source": [
    "connexion = sqlite3.connect('nominations.db')"
   ]
  },
  {
   "cell_type": "code",
   "execution_count": 46,
   "id": "11f430c5",
   "metadata": {},
   "outputs": [],
   "source": [
    "final_nominations.to_sql('nominations', connexion, index=False)"
   ]
  },
  {
   "cell_type": "markdown",
   "id": "59c65759",
   "metadata": {},
   "source": [
    "# Création des relations sur SQLite"
   ]
  },
  {
   "cell_type": "code",
   "execution_count": 51,
   "id": "2f61a0ff",
   "metadata": {},
   "outputs": [],
   "source": [
    "import sqlite3\n",
    "connexion = sqlite3.connect('nominations.db')"
   ]
  },
  {
   "cell_type": "code",
   "execution_count": 52,
   "id": "d035f860",
   "metadata": {},
   "outputs": [
    {
     "data": {
      "text/plain": [
       "[(0, 'Year', 'INTEGER', 0, None, 0),\n",
       " (1, 'Category', 'TEXT', 0, None, 0),\n",
       " (2, 'Nominee', 'TEXT', 0, None, 0),\n",
       " (3, 'Won', 'INTEGER', 0, None, 0),\n",
       " (4, 'Movie', 'TEXT', 0, None, 0),\n",
       " (5, 'Character', 'TEXT', 0, None, 0)]"
      ]
     },
     "execution_count": 52,
     "metadata": {},
     "output_type": "execute_result"
    }
   ],
   "source": [
    "# Affichage des infos de la table\n",
    "connexion.execute('pragma table_info(nominations)').fetchall()"
   ]
  },
  {
   "cell_type": "code",
   "execution_count": 55,
   "id": "ca70bb98",
   "metadata": {},
   "outputs": [
    {
     "name": "stdout",
     "output_type": "stream",
     "text": [
      "(2010, 'Actor -- Leading Role', 'Javier Bardem', 0, 'Biutiful', 'Uxbal')\n",
      "(2010, 'Actor -- Leading Role', 'Jeff Bridges', 0, 'True Grit', 'Rooster Cogburn')\n",
      "(2010, 'Actor -- Leading Role', 'Jesse Eisenberg', 0, 'The Social Network', 'Mark Zuckerberg')\n",
      "(2010, 'Actor -- Leading Role', 'Colin Firth', 1, \"The King's Speech\", 'King George VI')\n",
      "(2010, 'Actor -- Leading Role', 'James Franco', 0, '127 Hours', 'Aron Ralston')\n",
      "(2010, 'Actress -- Leading Role', 'Annette Bening', 0, 'The Kids Are All Right', 'Nic')\n",
      "(2010, 'Actress -- Leading Role', 'Nicole Kidman', 0, 'Rabbit Hole', 'Becca')\n",
      "(2010, 'Actress -- Leading Role', 'Jennifer Lawrence', 0, \"Winter's Bone\", 'Ree')\n",
      "(2010, 'Actress -- Leading Role', 'Natalie Portman', 1, 'Black Swan', 'Nina Sayers/The Swan Queen')\n",
      "(2010, 'Actress -- Leading Role', 'Michelle Williams', 0, 'Blue Valentine', 'Cindy')\n"
     ]
    }
   ],
   "source": [
    "# Afficher les 10 premières lignes de la table nominations\n",
    "for row in connexion.execute('select * from nominations limit 10;').fetchall():\n",
    "    print(row)"
   ]
  },
  {
   "cell_type": "markdown",
   "id": "6198f0f0",
   "metadata": {},
   "source": [
    "## Création de la table ceremonies"
   ]
  },
  {
   "cell_type": "code",
   "execution_count": null,
   "id": "41519a49",
   "metadata": {},
   "outputs": [],
   "source": [
    "# executemany(req, list) va nous permettre d'executer plrs commendes\n",
    "\n",
    "\n"
   ]
  },
  {
   "cell_type": "code",
   "execution_count": 56,
   "id": "0fe94bd4",
   "metadata": {},
   "outputs": [
    {
     "data": {
      "text/plain": [
       "[]"
      ]
     },
     "execution_count": 56,
     "metadata": {},
     "output_type": "execute_result"
    }
   ],
   "source": [
    "# Créer la table ceremonies\n",
    "connexion.execute('create table ceremonies(id integer primary key, Year integer, Host text);').fetchall()"
   ]
  },
  {
   "cell_type": "code",
   "execution_count": 58,
   "id": "108acf33",
   "metadata": {},
   "outputs": [
    {
     "data": {
      "text/plain": [
       "[('nominations',), ('ceremonies',)]"
      ]
     },
     "execution_count": 58,
     "metadata": {},
     "output_type": "execute_result"
    }
   ],
   "source": [
    "connexion.execute('select name from sqlite_master where type=\"table\";').fetchall()"
   ]
  },
  {
   "cell_type": "code",
   "execution_count": 59,
   "id": "abafd832",
   "metadata": {},
   "outputs": [
    {
     "data": {
      "text/plain": [
       "[(0, 'id', 'integer', 0, None, 1),\n",
       " (1, 'Year', 'integer', 0, None, 0),\n",
       " (2, 'Host', 'text', 0, None, 0)]"
      ]
     },
     "execution_count": 59,
     "metadata": {},
     "output_type": "execute_result"
    }
   ],
   "source": [
    "connexion.execute('pragma table_info(ceremonies);').fetchall()"
   ]
  },
  {
   "cell_type": "code",
   "execution_count": 60,
   "id": "47d18e99",
   "metadata": {},
   "outputs": [],
   "source": [
    "# Création d'une liste pour stocker les données\n",
    "\n",
    "year_hosts = [(2010,\"Steve Martin\"),(2009,\"Hugh Jackman\"),(2008,\"Jon Stewart\"),(2007,\"Ellen DeGeneres\"),(2006,\"Jon Stewart\"),(2005,\"Chris Rock\"),\n",
    "(2004,\"Billy Crystal\"),(2003,\"Steve Martin\"),(2002,\"Whoopi Goldberg\"),(2001,\"Steve Martin\"),(2000,\"Billy Crystal\")]"
   ]
  },
  {
   "cell_type": "code",
   "execution_count": 62,
   "id": "85ded774",
   "metadata": {},
   "outputs": [
    {
     "name": "stdout",
     "output_type": "stream",
     "text": [
      "[(2010, 'Steve Martin'), (2009, 'Hugh Jackman'), (2008, 'Jon Stewart'), (2007, 'Ellen DeGeneres'), (2006, 'Jon Stewart'), (2005, 'Chris Rock'), (2004, 'Billy Crystal'), (2003, 'Steve Martin'), (2002, 'Whoopi Goldberg'), (2001, 'Steve Martin'), (2000, 'Billy Crystal')]\n"
     ]
    }
   ],
   "source": [
    "print(year_hosts)"
   ]
  },
  {
   "cell_type": "code",
   "execution_count": 63,
   "id": "82037c09",
   "metadata": {},
   "outputs": [],
   "source": [
    "insert_query = 'insert into ceremonies(Year,Host) values(?,?);'"
   ]
  },
  {
   "cell_type": "code",
   "execution_count": 64,
   "id": "763c7f4d",
   "metadata": {},
   "outputs": [
    {
     "data": {
      "text/plain": [
       "[]"
      ]
     },
     "execution_count": 64,
     "metadata": {},
     "output_type": "execute_result"
    }
   ],
   "source": [
    "connexion.executemany(insert_query, year_hosts).fetchall()"
   ]
  },
  {
   "cell_type": "code",
   "execution_count": 65,
   "id": "a93540b8",
   "metadata": {},
   "outputs": [],
   "source": [
    "connexion.commit()"
   ]
  },
  {
   "cell_type": "code",
   "execution_count": 66,
   "id": "ceb92720",
   "metadata": {},
   "outputs": [
    {
     "data": {
      "text/plain": [
       "[(1, 2010, 'Steve Martin'),\n",
       " (2, 2009, 'Hugh Jackman'),\n",
       " (3, 2008, 'Jon Stewart'),\n",
       " (4, 2007, 'Ellen DeGeneres'),\n",
       " (5, 2006, 'Jon Stewart'),\n",
       " (6, 2005, 'Chris Rock'),\n",
       " (7, 2004, 'Billy Crystal'),\n",
       " (8, 2003, 'Steve Martin'),\n",
       " (9, 2002, 'Whoopi Goldberg'),\n",
       " (10, 2001, 'Steve Martin'),\n",
       " (11, 2000, 'Billy Crystal')]"
      ]
     },
     "execution_count": 66,
     "metadata": {},
     "output_type": "execute_result"
    }
   ],
   "source": [
    "connexion.execute('select * from ceremonies;').fetchall()"
   ]
  },
  {
   "cell_type": "markdown",
   "id": "6e552726",
   "metadata": {},
   "source": [
    "##  Contraintes de clé externe"
   ]
  },
  {
   "cell_type": "code",
   "execution_count": 67,
   "id": "52f7af76",
   "metadata": {},
   "outputs": [
    {
     "data": {
      "text/plain": [
       "[]"
      ]
     },
     "execution_count": 67,
     "metadata": {},
     "output_type": "execute_result"
    }
   ],
   "source": [
    "connexion.execute('pragma foreign_keys = on;').fetchall()"
   ]
  },
  {
   "cell_type": "markdown",
   "id": "6ba21565",
   "metadata": {},
   "source": [
    "## Relation one-to-many avec la table nominations"
   ]
  },
  {
   "cell_type": "code",
   "execution_count": 78,
   "id": "b456ab67",
   "metadata": {},
   "outputs": [
    {
     "data": {
      "text/plain": [
       "[]"
      ]
     },
     "execution_count": 78,
     "metadata": {},
     "output_type": "execute_result"
    }
   ],
   "source": [
    "# Création de la table nomination\n",
    "connexion.execute('create table nominations_two(id integer primary key, category text, nominee text, movie text, character text, won integer, ceremony_id integer references ceremonies(id));').fetchall()"
   ]
  },
  {
   "cell_type": "code",
   "execution_count": 79,
   "id": "ceac6d48",
   "metadata": {},
   "outputs": [
    {
     "data": {
      "text/plain": [
       "[(0, 'id', 'integer', 0, None, 1),\n",
       " (1, 'category', 'text', 0, None, 0),\n",
       " (2, 'nominee', 'text', 0, None, 0),\n",
       " (3, 'movie', 'text', 0, None, 0),\n",
       " (4, 'character', 'text', 0, None, 0),\n",
       " (5, 'won', 'integer', 0, None, 0),\n",
       " (6, 'ceremony_id', 'integer', 0, None, 0)]"
      ]
     },
     "execution_count": 79,
     "metadata": {},
     "output_type": "execute_result"
    }
   ],
   "source": [
    "connexion.execute('pragma table_info(nominations_two);').fetchall()"
   ]
  },
  {
   "cell_type": "code",
   "execution_count": 80,
   "id": "056faf1b",
   "metadata": {},
   "outputs": [],
   "source": [
    "joined_nominations_query = 'select nominations.Category, nominations.Nominee, nominations.Movie, nominations.Character, nominations.Won,ceremonies.id from nominations inner join ceremonies on nominations.year=ceremonies.year ;'\n",
    "joined_nominations = connexion.execute(joined_nominations_query).fetchall()"
   ]
  },
  {
   "cell_type": "code",
   "execution_count": 73,
   "id": "6db4bce7",
   "metadata": {},
   "outputs": [
    {
     "data": {
      "text/plain": [
       "[('Actor -- Leading Role', 'Javier Bardem', 'Biutiful', 'Uxbal', 0, 1),\n",
       " ('Actor -- Leading Role',\n",
       "  'Jeff Bridges',\n",
       "  'True Grit',\n",
       "  'Rooster Cogburn',\n",
       "  0,\n",
       "  1),\n",
       " ('Actor -- Leading Role',\n",
       "  'Jesse Eisenberg',\n",
       "  'The Social Network',\n",
       "  'Mark Zuckerberg',\n",
       "  0,\n",
       "  1),\n",
       " ('Actor -- Leading Role',\n",
       "  'Colin Firth',\n",
       "  \"The King's Speech\",\n",
       "  'King George VI',\n",
       "  1,\n",
       "  1),\n",
       " ('Actor -- Leading Role', 'James Franco', '127 Hours', 'Aron Ralston', 0, 1),\n",
       " ('Actress -- Leading Role',\n",
       "  'Annette Bening',\n",
       "  'The Kids Are All Right',\n",
       "  'Nic',\n",
       "  0,\n",
       "  1),\n",
       " ('Actress -- Leading Role', 'Nicole Kidman', 'Rabbit Hole', 'Becca', 0, 1),\n",
       " ('Actress -- Leading Role',\n",
       "  'Jennifer Lawrence',\n",
       "  \"Winter's Bone\",\n",
       "  'Ree',\n",
       "  0,\n",
       "  1),\n",
       " ('Actress -- Leading Role',\n",
       "  'Natalie Portman',\n",
       "  'Black Swan',\n",
       "  'Nina Sayers/The Swan Queen',\n",
       "  1,\n",
       "  1),\n",
       " ('Actress -- Leading Role',\n",
       "  'Michelle Williams',\n",
       "  'Blue Valentine',\n",
       "  'Cindy',\n",
       "  0,\n",
       "  1),\n",
       " ('Actor -- Leading Role', 'Jeff Bridges', 'Crazy Heart', 'Bad Blake', 1, 2),\n",
       " ('Actor -- Leading Role',\n",
       "  'George Clooney',\n",
       "  'Up in the Air',\n",
       "  'Ryan Bingham',\n",
       "  0,\n",
       "  2),\n",
       " ('Actor -- Leading Role', 'Colin Firth', 'A Single Man', 'George', 0, 2),\n",
       " ('Actor -- Leading Role',\n",
       "  'Morgan Freeman',\n",
       "  'Invictus',\n",
       "  'Nelson Mandela',\n",
       "  0,\n",
       "  2),\n",
       " ('Actor -- Leading Role',\n",
       "  'Jeremy Renner',\n",
       "  'The Hurt Locker',\n",
       "  'Staff Sergeant William James',\n",
       "  0,\n",
       "  2),\n",
       " ('Actress -- Leading Role',\n",
       "  'Sandra Bullock',\n",
       "  'The Blind Side',\n",
       "  'Leigh Anne Tuohy',\n",
       "  1,\n",
       "  2),\n",
       " ('Actress -- Leading Role',\n",
       "  'Helen Mirren',\n",
       "  'The Last Station',\n",
       "  'Sofya',\n",
       "  0,\n",
       "  2),\n",
       " ('Actress -- Leading Role', 'Carey Mulligan', 'An Education', 'Jenny', 0, 2),\n",
       " ('Actress -- Leading Role',\n",
       "  'Gabourey Sidibe',\n",
       "  \"Precious: Based on the Novel 'Push' by Sapphire\",\n",
       "  'Precious',\n",
       "  0,\n",
       "  2),\n",
       " ('Actress -- Leading Role',\n",
       "  'Meryl Streep',\n",
       "  'Julie & Julia',\n",
       "  'Julia Child',\n",
       "  0,\n",
       "  2),\n",
       " ('Actor -- Leading Role', 'Richard Jenkins', 'The Visitor', 'Walter', 0, 3),\n",
       " ('Actor -- Leading Role',\n",
       "  'Frank Langella',\n",
       "  'Frost/Nixon',\n",
       "  'Richard Nixon',\n",
       "  0,\n",
       "  3),\n",
       " ('Actor -- Leading Role', 'Sean Penn', 'Milk', 'Harvey Milk', 1, 3),\n",
       " ('Actor -- Leading Role',\n",
       "  'Brad Pitt',\n",
       "  'The Curious Case of Benjamin Button',\n",
       "  'Benjamin Button',\n",
       "  0,\n",
       "  3),\n",
       " ('Actor -- Leading Role', 'Mickey Rourke', 'The Wrestler', 'Randy', 0, 3),\n",
       " ('Actress -- Leading Role',\n",
       "  'Anne Hathaway',\n",
       "  'Rachel Getting Married',\n",
       "  'Kym',\n",
       "  0,\n",
       "  3),\n",
       " ('Actress -- Leading Role',\n",
       "  'Angelina Jolie',\n",
       "  'Changeling',\n",
       "  'Christine Collins',\n",
       "  0,\n",
       "  3),\n",
       " ('Actress -- Leading Role', 'Melissa Leo', 'Frozen River', 'Ray Eddy', 0, 3),\n",
       " ('Actress -- Leading Role',\n",
       "  'Meryl Streep',\n",
       "  'Doubt',\n",
       "  'Sister Aloysius Beauvier',\n",
       "  0,\n",
       "  3),\n",
       " ('Actress -- Leading Role',\n",
       "  'Kate Winslet',\n",
       "  'The Reader',\n",
       "  'Hanna Schmitz',\n",
       "  1,\n",
       "  3),\n",
       " ('Actor -- Leading Role',\n",
       "  'George Clooney',\n",
       "  'Michael Clayton',\n",
       "  'Michael Clayton',\n",
       "  0,\n",
       "  4),\n",
       " ('Actor -- Leading Role',\n",
       "  'Daniel Day-Lewis',\n",
       "  'There Will Be Blood',\n",
       "  'Daniel Plainview',\n",
       "  1,\n",
       "  4),\n",
       " ('Actor -- Leading Role',\n",
       "  'Johnny Depp',\n",
       "  'Sweeney Todd The Demon Barber of Fleet Street',\n",
       "  'Sweeney Todd',\n",
       "  0,\n",
       "  4),\n",
       " ('Actor -- Leading Role',\n",
       "  'Tommy Lee Jones',\n",
       "  'In the Valley of Elah',\n",
       "  'Hank Deerfield',\n",
       "  0,\n",
       "  4),\n",
       " ('Actor -- Leading Role',\n",
       "  'Viggo Mortensen',\n",
       "  'Eastern Promises',\n",
       "  'Nikolai',\n",
       "  0,\n",
       "  4),\n",
       " ('Actress -- Leading Role',\n",
       "  'Cate Blanchett',\n",
       "  'Elizabeth: The Golden Age',\n",
       "  'Queen Elizabeth I',\n",
       "  0,\n",
       "  4),\n",
       " ('Actress -- Leading Role', 'Julie Christie', 'Away from Her', 'Fiona', 0, 4),\n",
       " ('Actress -- Leading Role',\n",
       "  'Marion Cotillard',\n",
       "  'La Vie en Rose',\n",
       "  'Edith Piaf',\n",
       "  1,\n",
       "  4),\n",
       " ('Actress -- Leading Role',\n",
       "  'Laura Linney',\n",
       "  'The Savages',\n",
       "  'Wendy Savage',\n",
       "  0,\n",
       "  4),\n",
       " ('Actress -- Leading Role', 'Ellen Page', 'Juno', 'Juno MacGuff', 0, 4),\n",
       " ('Actor -- Leading Role',\n",
       "  'Leonardo DiCaprio',\n",
       "  'Blood Diamond',\n",
       "  'Danny Archer',\n",
       "  0,\n",
       "  5),\n",
       " ('Actor -- Leading Role', 'Ryan Gosling', 'Half Nelson', 'Dan Dunne', 0, 5),\n",
       " ('Actor -- Leading Role', \"Peter O'Toole\", 'Venus', 'Maurice', 0, 5),\n",
       " ('Actor -- Leading Role',\n",
       "  'Will Smith',\n",
       "  'The Pursuit of Happyness',\n",
       "  'Chris Gardner',\n",
       "  0,\n",
       "  5),\n",
       " ('Actor -- Leading Role',\n",
       "  'Forest Whitaker',\n",
       "  'The Last King of Scotland',\n",
       "  'Idi Amin',\n",
       "  1,\n",
       "  5),\n",
       " ('Actress -- Leading Role', 'Penélope Cruz', 'Volver', 'Raimunda', 0, 5),\n",
       " ('Actress -- Leading Role',\n",
       "  'Judi Dench',\n",
       "  'Notes on a Scandal',\n",
       "  'Barbara Covett',\n",
       "  0,\n",
       "  5),\n",
       " ('Actress -- Leading Role', 'Helen Mirren', 'The Queen', 'The Queen', 1, 5),\n",
       " ('Actress -- Leading Role',\n",
       "  'Meryl Streep',\n",
       "  'The Devil Wears Prada',\n",
       "  'Miranda Priestly',\n",
       "  0,\n",
       "  5),\n",
       " ('Actress -- Leading Role',\n",
       "  'Kate Winslet',\n",
       "  'Little Children',\n",
       "  'Sarah Pierce',\n",
       "  0,\n",
       "  5),\n",
       " ('Actor -- Leading Role',\n",
       "  'Philip Seymour Hoffman',\n",
       "  'Capote',\n",
       "  'Truman Capote',\n",
       "  1,\n",
       "  6),\n",
       " ('Actor -- Leading Role', 'Terrence Howard', 'Hustle & Flow', 'DJay', 0, 6),\n",
       " ('Actor -- Leading Role',\n",
       "  'Heath Ledger',\n",
       "  'Brokeback Mountain',\n",
       "  'Ennis Del Mar',\n",
       "  0,\n",
       "  6),\n",
       " ('Actor -- Leading Role',\n",
       "  'Joaquin Phoenix',\n",
       "  'Walk the Line',\n",
       "  'John R. Cash',\n",
       "  0,\n",
       "  6),\n",
       " ('Actor -- Leading Role',\n",
       "  'David Strathairn',\n",
       "  'Good Night, and Good Luck.',\n",
       "  'Edward R. Murrow',\n",
       "  0,\n",
       "  6),\n",
       " ('Actress -- Leading Role',\n",
       "  'Judi Dench',\n",
       "  'Mrs. Henderson Presents',\n",
       "  'Mrs. Laura Henderson',\n",
       "  0,\n",
       "  6),\n",
       " ('Actress -- Leading Role', 'Felicity Huffman', 'Transamerica', 'Bree', 0, 6),\n",
       " ('Actress -- Leading Role',\n",
       "  'Keira Knightley',\n",
       "  'Pride & Prejudice',\n",
       "  'Elizabeth Bennet',\n",
       "  0,\n",
       "  6),\n",
       " ('Actress -- Leading Role',\n",
       "  'Charlize Theron',\n",
       "  'North Country',\n",
       "  'Josey Aimes',\n",
       "  0,\n",
       "  6),\n",
       " ('Actress -- Leading Role',\n",
       "  'Reese Witherspoon',\n",
       "  'Walk the Line',\n",
       "  'June Carter',\n",
       "  1,\n",
       "  6),\n",
       " ('Actor -- Leading Role',\n",
       "  'Don Cheadle',\n",
       "  'Hotel Rwanda',\n",
       "  'Paul Rusesabagina',\n",
       "  0,\n",
       "  7),\n",
       " ('Actor -- Leading Role',\n",
       "  'Johnny Depp',\n",
       "  'Finding Neverland',\n",
       "  'Sir James Matthew Barrie',\n",
       "  0,\n",
       "  7),\n",
       " ('Actor -- Leading Role',\n",
       "  'Leonardo DiCaprio',\n",
       "  'The Aviator',\n",
       "  'Howard Hughes',\n",
       "  0,\n",
       "  7),\n",
       " ('Actor -- Leading Role',\n",
       "  'Clint Eastwood',\n",
       "  'Million Dollar Baby',\n",
       "  'Frankie Dunn',\n",
       "  0,\n",
       "  7),\n",
       " ('Actor -- Leading Role', 'Jamie Foxx', 'Ray', 'Ray Charles', 1, 7),\n",
       " ('Actress -- Leading Role',\n",
       "  'Annette Bening',\n",
       "  'Being Julia',\n",
       "  'Julia Lambert',\n",
       "  0,\n",
       "  7),\n",
       " ('Actress -- Leading Role',\n",
       "  'Catalina Sandino Moreno',\n",
       "  'Maria Full of Grace',\n",
       "  'Maria',\n",
       "  0,\n",
       "  7),\n",
       " ('Actress -- Leading Role', 'Imelda Staunton', 'Vera Drake', 'Vera', 0, 7),\n",
       " ('Actress -- Leading Role',\n",
       "  'Hilary Swank',\n",
       "  'Million Dollar Baby',\n",
       "  'Maggie Fitzgerald',\n",
       "  1,\n",
       "  7),\n",
       " ('Actress -- Leading Role',\n",
       "  'Kate Winslet',\n",
       "  'Eternal Sunshine of the Spotless Mind',\n",
       "  'Clementine Kruczynski',\n",
       "  0,\n",
       "  7),\n",
       " ('Actor -- Leading Role',\n",
       "  'Johnny Depp',\n",
       "  'Pirates of the Caribbean: The Curse of the Black Pearl',\n",
       "  'Jack Sparrow',\n",
       "  0,\n",
       "  8),\n",
       " ('Actor -- Leading Role',\n",
       "  'Ben Kingsley',\n",
       "  'House of Sand and Fog',\n",
       "  'Behrani',\n",
       "  0,\n",
       "  8),\n",
       " ('Actor -- Leading Role', 'Jude Law', 'Cold Mountain', 'Inman', 0, 8),\n",
       " ('Actor -- Leading Role',\n",
       "  'Bill Murray',\n",
       "  'Lost in Translation',\n",
       "  'Bob Harris',\n",
       "  0,\n",
       "  8),\n",
       " ('Actor -- Leading Role', 'Sean Penn', 'Mystic River', 'Jimmy Markum', 1, 8),\n",
       " ('Actress -- Leading Role',\n",
       "  'Keisha Castle-Hughes',\n",
       "  'Whale Rider',\n",
       "  'Paikea',\n",
       "  0,\n",
       "  8),\n",
       " ('Actress -- Leading Role',\n",
       "  'Diane Keaton',\n",
       "  \"Something's Gotta Give\",\n",
       "  'Erica Barry',\n",
       "  0,\n",
       "  8),\n",
       " ('Actress -- Leading Role', 'Samantha Morton', 'In America', 'Sarah', 0, 8),\n",
       " ('Actress -- Leading Role',\n",
       "  'Charlize Theron',\n",
       "  'Monster',\n",
       "  'Aileen Wuornos',\n",
       "  1,\n",
       "  8),\n",
       " ('Actress -- Leading Role', 'Naomi Watts', '21 Grams', 'Cristina Peck', 0, 8),\n",
       " ('Actor -- Leading Role',\n",
       "  'Adrien Brody',\n",
       "  'The Pianist',\n",
       "  'Wladyslaw Szpilman',\n",
       "  1,\n",
       "  9),\n",
       " ('Actor -- Leading Role',\n",
       "  'Nicolas Cage',\n",
       "  'Adaptation',\n",
       "  'Charlie Kaufman & Donald Kaufman',\n",
       "  0,\n",
       "  9),\n",
       " ('Actor -- Leading Role',\n",
       "  'Michael Caine',\n",
       "  'The Quiet American',\n",
       "  'Thomas Fowler',\n",
       "  0,\n",
       "  9),\n",
       " ('Actor -- Leading Role',\n",
       "  'Daniel Day-Lewis',\n",
       "  'Gangs of New York',\n",
       "  \"Bill 'The Butcher' Cutting\",\n",
       "  0,\n",
       "  9),\n",
       " ('Actor -- Leading Role',\n",
       "  'Jack Nicholson',\n",
       "  'About Schmidt',\n",
       "  'Warren Schmidt',\n",
       "  0,\n",
       "  9),\n",
       " ('Actress -- Leading Role', 'Salma Hayek', 'Frida', 'Frida Kahlo', 0, 9),\n",
       " ('Actress -- Leading Role',\n",
       "  'Nicole Kidman',\n",
       "  'The Hours',\n",
       "  'Virginia Woolf',\n",
       "  1,\n",
       "  9),\n",
       " ('Actress -- Leading Role',\n",
       "  'Diane Lane',\n",
       "  'Unfaithful',\n",
       "  'Connie Sumner',\n",
       "  0,\n",
       "  9),\n",
       " ('Actress -- Leading Role',\n",
       "  'Julianne Moore',\n",
       "  'Far from Heaven',\n",
       "  'Cathy Whitaker',\n",
       "  0,\n",
       "  9),\n",
       " ('Actress -- Leading Role', 'Renée Zellweger', 'Chicago', 'Roxie Hart', 0, 9),\n",
       " ('Actor -- Leading Role',\n",
       "  'Russell Crowe',\n",
       "  'A Beautiful Mind',\n",
       "  'John Nash',\n",
       "  0,\n",
       "  10),\n",
       " ('Actor -- Leading Role', 'Sean Penn', 'I Am Sam', 'Sam Dawson', 0, 10),\n",
       " ('Actor -- Leading Role', 'Will Smith', 'Ali', 'Muhammad Ali', 0, 10),\n",
       " ('Actor -- Leading Role',\n",
       "  'Denzel Washington',\n",
       "  'Training Day',\n",
       "  'Alonzo',\n",
       "  1,\n",
       "  10),\n",
       " ('Actor -- Leading Role',\n",
       "  'Tom Wilkinson',\n",
       "  'In the Bedroom',\n",
       "  'Matt Fowler',\n",
       "  0,\n",
       "  10),\n",
       " ('Actress -- Leading Role',\n",
       "  'Halle Berry',\n",
       "  \"Monster's Ball\",\n",
       "  'Leticia Musgrove',\n",
       "  1,\n",
       "  10),\n",
       " ('Actress -- Leading Role', 'Judi Dench', 'Iris', 'Iris Murdoch', 0, 10),\n",
       " ('Actress -- Leading Role', 'Nicole Kidman', 'Moulin Rouge', 'Satine', 0, 10),\n",
       " ('Actress -- Leading Role',\n",
       "  'Sissy Spacek',\n",
       "  'In the Bedroom',\n",
       "  'Ruth Fowler',\n",
       "  0,\n",
       "  10),\n",
       " ('Actress -- Leading Role',\n",
       "  'Renée Zellweger',\n",
       "  \"Bridget Jones's Diary\",\n",
       "  'Bridget Jones',\n",
       "  0,\n",
       "  10)]"
      ]
     },
     "execution_count": 73,
     "metadata": {},
     "output_type": "execute_result"
    }
   ],
   "source": [
    "joined_nominations"
   ]
  },
  {
   "cell_type": "code",
   "execution_count": 81,
   "id": "36fa6b8e",
   "metadata": {},
   "outputs": [],
   "source": [
    "insert_nomination = 'insert into nominations_two values(null,?,?,?,?,?,?);'"
   ]
  },
  {
   "cell_type": "code",
   "execution_count": 83,
   "id": "4b6bee0e",
   "metadata": {},
   "outputs": [],
   "source": [
    "connexion.executemany(insert_nomination, joined_nominations).fetchall()\n",
    "connexion.commit()"
   ]
  },
  {
   "cell_type": "code",
   "execution_count": 87,
   "id": "91762ff9",
   "metadata": {},
   "outputs": [
    {
     "name": "stdout",
     "output_type": "stream",
     "text": [
      "   Year                 Category            Nominee  Won  \\\n",
      "0  2010    Actor -- Leading Role      Javier Bardem    0   \n",
      "1  2010    Actor -- Leading Role       Jeff Bridges    0   \n",
      "2  2010    Actor -- Leading Role    Jesse Eisenberg    0   \n",
      "3  2010    Actor -- Leading Role        Colin Firth    1   \n",
      "4  2010    Actor -- Leading Role       James Franco    0   \n",
      "5  2010  Actress -- Leading Role     Annette Bening    0   \n",
      "6  2010  Actress -- Leading Role      Nicole Kidman    0   \n",
      "7  2010  Actress -- Leading Role  Jennifer Lawrence    0   \n",
      "8  2010  Actress -- Leading Role    Natalie Portman    1   \n",
      "9  2010  Actress -- Leading Role  Michelle Williams    0   \n",
      "\n",
      "                    Movie                   Character  \n",
      "0                Biutiful                       Uxbal  \n",
      "1               True Grit             Rooster Cogburn  \n",
      "2      The Social Network             Mark Zuckerberg  \n",
      "3       The King's Speech              King George VI  \n",
      "4               127 Hours                Aron Ralston  \n",
      "5  The Kids Are All Right                         Nic  \n",
      "6             Rabbit Hole                       Becca  \n",
      "7           Winter's Bone                         Ree  \n",
      "8              Black Swan  Nina Sayers/The Swan Queen  \n",
      "9          Blue Valentine                       Cindy  \n"
     ]
    }
   ],
   "source": [
    "a = pd.read_sql_query('select * from nominations limit 10;', con = connexion)\n",
    "print(a)"
   ]
  },
  {
   "cell_type": "code",
   "execution_count": 88,
   "id": "ced0429d",
   "metadata": {},
   "outputs": [
    {
     "name": "stdout",
     "output_type": "stream",
     "text": [
      "   id                 category            nominee                   movie  \\\n",
      "0   1    Actor -- Leading Role      Javier Bardem                Biutiful   \n",
      "1   2    Actor -- Leading Role       Jeff Bridges               True Grit   \n",
      "2   3    Actor -- Leading Role    Jesse Eisenberg      The Social Network   \n",
      "3   4    Actor -- Leading Role        Colin Firth       The King's Speech   \n",
      "4   5    Actor -- Leading Role       James Franco               127 Hours   \n",
      "5   6  Actress -- Leading Role     Annette Bening  The Kids Are All Right   \n",
      "6   7  Actress -- Leading Role      Nicole Kidman             Rabbit Hole   \n",
      "7   8  Actress -- Leading Role  Jennifer Lawrence           Winter's Bone   \n",
      "8   9  Actress -- Leading Role    Natalie Portman              Black Swan   \n",
      "9  10  Actress -- Leading Role  Michelle Williams          Blue Valentine   \n",
      "\n",
      "                    character  won  ceremony_id  \n",
      "0                       Uxbal    0            1  \n",
      "1             Rooster Cogburn    0            1  \n",
      "2             Mark Zuckerberg    0            1  \n",
      "3              King George VI    1            1  \n",
      "4                Aron Ralston    0            1  \n",
      "5                         Nic    0            1  \n",
      "6                       Becca    0            1  \n",
      "7                         Ree    0            1  \n",
      "8  Nina Sayers/The Swan Queen    1            1  \n",
      "9                       Cindy    0            1  \n"
     ]
    }
   ],
   "source": [
    "a = pd.read_sql_query('select * from nominations_two limit 10;', con = connexion)\n",
    "print(a)"
   ]
  },
  {
   "cell_type": "markdown",
   "id": "74f3842c",
   "metadata": {},
   "source": [
    "## Supprimer et renommer les tables "
   ]
  },
  {
   "cell_type": "code",
   "execution_count": 89,
   "id": "e1612717",
   "metadata": {},
   "outputs": [
    {
     "data": {
      "text/plain": [
       "[]"
      ]
     },
     "execution_count": 89,
     "metadata": {},
     "output_type": "execute_result"
    }
   ],
   "source": [
    "connexion.execute('drop table nominations').fetchall()"
   ]
  },
  {
   "cell_type": "code",
   "execution_count": 90,
   "id": "301d4a27",
   "metadata": {},
   "outputs": [
    {
     "data": {
      "text/plain": [
       "[]"
      ]
     },
     "execution_count": 90,
     "metadata": {},
     "output_type": "execute_result"
    }
   ],
   "source": [
    "connexion.execute('drop table nomination').fetchall()"
   ]
  },
  {
   "cell_type": "code",
   "execution_count": 94,
   "id": "51b60d86",
   "metadata": {},
   "outputs": [
    {
     "ename": "OperationalError",
     "evalue": "no such table: nominations_two",
     "output_type": "error",
     "traceback": [
      "\u001b[1;31m---------------------------------------------------------------------------\u001b[0m",
      "\u001b[1;31mOperationalError\u001b[0m                          Traceback (most recent call last)",
      "\u001b[1;32m~\\AppData\\Local\\Temp/ipykernel_16296/1208369508.py\u001b[0m in \u001b[0;36m<module>\u001b[1;34m\u001b[0m\n\u001b[0;32m      1\u001b[0m \u001b[1;31m# Renommer la table\u001b[0m\u001b[1;33m\u001b[0m\u001b[1;33m\u001b[0m\u001b[0m\n\u001b[1;32m----> 2\u001b[1;33m \u001b[0mconnexion\u001b[0m\u001b[1;33m.\u001b[0m\u001b[0mexecute\u001b[0m\u001b[1;33m(\u001b[0m\u001b[1;34m'alter table nominations_two rename to nominations'\u001b[0m\u001b[1;33m)\u001b[0m\u001b[1;33m.\u001b[0m\u001b[0mfetchall\u001b[0m\u001b[1;33m(\u001b[0m\u001b[1;33m)\u001b[0m\u001b[1;33m\u001b[0m\u001b[1;33m\u001b[0m\u001b[0m\n\u001b[0m",
      "\u001b[1;31mOperationalError\u001b[0m: no such table: nominations_two"
     ]
    }
   ],
   "source": [
    "# Renommer la table \n",
    "connexion.execute('alter table nominations_two rename to nominations').fetchall()"
   ]
  },
  {
   "cell_type": "code",
   "execution_count": 95,
   "id": "7fae2af8",
   "metadata": {},
   "outputs": [
    {
     "data": {
      "text/plain": [
       "[('ceremonies',), ('nominations',)]"
      ]
     },
     "execution_count": 95,
     "metadata": {},
     "output_type": "execute_result"
    }
   ],
   "source": [
    "connexion.execute('select name from sqlite_master where type=\"table\";').fetchall()"
   ]
  },
  {
   "cell_type": "markdown",
   "id": "465c802b",
   "metadata": {},
   "source": [
    "## Création d'une JOIN Table"
   ]
  },
  {
   "cell_type": "code",
   "execution_count": 97,
   "id": "2d2a492b",
   "metadata": {},
   "outputs": [
    {
     "ename": "OperationalError",
     "evalue": "table movies already exists",
     "output_type": "error",
     "traceback": [
      "\u001b[1;31m---------------------------------------------------------------------------\u001b[0m",
      "\u001b[1;31mOperationalError\u001b[0m                          Traceback (most recent call last)",
      "\u001b[1;32m~\\AppData\\Local\\Temp/ipykernel_16296/1541737818.py\u001b[0m in \u001b[0;36m<module>\u001b[1;34m\u001b[0m\n\u001b[1;32m----> 1\u001b[1;33m \u001b[0mconnexion\u001b[0m\u001b[1;33m.\u001b[0m\u001b[0mexecute\u001b[0m\u001b[1;33m(\u001b[0m\u001b[1;34m'create table movies(id integer primary key, movie text)'\u001b[0m\u001b[1;33m)\u001b[0m\u001b[1;33m.\u001b[0m\u001b[0mfetchall\u001b[0m\u001b[1;33m(\u001b[0m\u001b[1;33m)\u001b[0m\u001b[1;33m\u001b[0m\u001b[1;33m\u001b[0m\u001b[0m\n\u001b[0m\u001b[0;32m      2\u001b[0m \u001b[0mconnexion\u001b[0m\u001b[1;33m.\u001b[0m\u001b[0mexecute\u001b[0m\u001b[1;33m(\u001b[0m\u001b[1;34m'create table actors(id integer primary key, actor text)'\u001b[0m\u001b[1;33m)\u001b[0m\u001b[1;33m.\u001b[0m\u001b[0mfetchall\u001b[0m\u001b[1;33m(\u001b[0m\u001b[1;33m)\u001b[0m\u001b[1;33m\u001b[0m\u001b[1;33m\u001b[0m\u001b[0m\n",
      "\u001b[1;31mOperationalError\u001b[0m: table movies already exists"
     ]
    }
   ],
   "source": [
    "connexion.execute('create table movies(id integer primary key, movie text)').fetchall()\n",
    "connexion.execute('create table actors(id integer primary key, actor text)').fetchall()\n"
   ]
  },
  {
   "cell_type": "code",
   "execution_count": 98,
   "id": "92f0cdf0",
   "metadata": {},
   "outputs": [
    {
     "data": {
      "text/plain": [
       "[]"
      ]
     },
     "execution_count": 98,
     "metadata": {},
     "output_type": "execute_result"
    }
   ],
   "source": [
    "connexion.execute('create table movies_actors(id integer primary key, movie_id integer references movies(id), actor_id integer references actors(id));').fetchall()\n"
   ]
  },
  {
   "cell_type": "code",
   "execution_count": 99,
   "id": "ac0d4bca",
   "metadata": {},
   "outputs": [
    {
     "data": {
      "text/plain": [
       "[('ceremonies',),\n",
       " ('nominations',),\n",
       " ('movies',),\n",
       " ('actors',),\n",
       " ('movies_actors',)]"
      ]
     },
     "execution_count": 99,
     "metadata": {},
     "output_type": "execute_result"
    }
   ],
   "source": [
    "connexion.execute('select name from sqlite_master where type=\"table\";').fetchall()"
   ]
  },
  {
   "cell_type": "code",
   "execution_count": 100,
   "id": "1603bb40",
   "metadata": {},
   "outputs": [
    {
     "data": {
      "text/plain": [
       "[(0, 0, 'actors', 'actor_id', 'id', 'NO ACTION', 'NO ACTION', 'NONE'),\n",
       " (1, 0, 'movies', 'movie_id', 'id', 'NO ACTION', 'NO ACTION', 'NONE')]"
      ]
     },
     "execution_count": 100,
     "metadata": {},
     "output_type": "execute_result"
    }
   ],
   "source": [
    "connexion.execute('pragma foreign_key_list(movies_actors);').fetchall()"
   ]
  },
  {
   "cell_type": "code",
   "execution_count": null,
   "id": "6e388e74",
   "metadata": {},
   "outputs": [],
   "source": []
  }
 ],
 "metadata": {
  "kernelspec": {
   "display_name": "Python 3 (ipykernel)",
   "language": "python",
   "name": "python3"
  },
  "language_info": {
   "codemirror_mode": {
    "name": "ipython",
    "version": 3
   },
   "file_extension": ".py",
   "mimetype": "text/x-python",
   "name": "python",
   "nbconvert_exporter": "python",
   "pygments_lexer": "ipython3",
   "version": "3.9.7"
  }
 },
 "nbformat": 4,
 "nbformat_minor": 5
}
