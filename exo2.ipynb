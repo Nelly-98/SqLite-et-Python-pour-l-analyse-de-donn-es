{
 "cells": [
  {
   "cell_type": "markdown",
   "id": "90e2eefd",
   "metadata": {},
   "source": [
    "# Calcul de moyennes \n",
    "### - Calcul de moyennes sur la table facts de la base de données factbook.db\n",
    "### - Calculer les moyennes des colonnes population, population_growth, birth_rate et death_rate.\n",
    "### - Récuperer les résultats dans les variables pop_avg, pop_growth_avg, birth_rate_avg et death_rate_avg et les afficher"
   ]
  },
  {
   "cell_type": "code",
   "execution_count": 7,
   "id": "31dd3577",
   "metadata": {},
   "outputs": [
    {
     "name": "stdout",
     "output_type": "stream",
     "text": [
      "        pop_avg  pop_growth_avg  birth_rate_avg  death_rate_avg\n",
      "0  6.209493e+07        1.200975       19.328553        7.821272\n"
     ]
    }
   ],
   "source": [
    "import sqlite3\n",
    "import pandas as pd\n",
    "import math\n",
    "connexion = sqlite3.connect('factbook.db/factbook.db')\n",
    "request = pd.read_sql_query('select avg(population) as pop_avg, avg(population_growth) as pop_growth_avg, avg(birth_rate) as birth_rate_avg, avg(death_rate) as death_rate_avg from facts;', con = connexion)\n",
    "print(request)"
   ]
  },
  {
   "cell_type": "markdown",
   "id": "9c0d2a32",
   "metadata": {},
   "source": [
    "# Trouver les valeurs extrêmes\n",
    "### - Calculer les valeurs minimums et maximun des colonnes population, population_growth, birth_rate et death_rate.\n",
    "### - Assigner les bonnes valeurs aux variables pop_min, pop_max, pop_growth_min, pop_growth_max, birth_rate_min, birth_rate_max, death_rate_min, death_rate_max"
   ]
  },
  {
   "cell_type": "code",
   "execution_count": 8,
   "id": "817d8f02",
   "metadata": {},
   "outputs": [
    {
     "name": "stdout",
     "output_type": "stream",
     "text": [
      "   pop_min  pop_growth_min  birth_rate_min  death_rate_min\n",
      "0        0             0.0            6.65            1.53\n"
     ]
    }
   ],
   "source": [
    "# Valeurs min\n",
    "request = pd.read_sql_query('select min(population) as pop_min, min(population_growth) as pop_growth_min, min(birth_rate) as birth_rate_min, min(death_rate) as death_rate_min from facts;', con = connexion)\n",
    "print(request)"
   ]
  },
  {
   "cell_type": "code",
   "execution_count": 9,
   "id": "9e75a005",
   "metadata": {},
   "outputs": [
    {
     "name": "stdout",
     "output_type": "stream",
     "text": [
      "      pop_max  pop_growth_max  birth_rate_max  death_rate_max\n",
      "0  7256490011            4.02           45.45           14.89\n"
     ]
    }
   ],
   "source": [
    "# Valeurs max\n",
    "request = pd.read_sql_query('select max(population) as pop_max, max(population_growth) as pop_growth_max, max(birth_rate) as birth_rate_max, max(death_rate) as death_rate_max from facts;', con = connexion)\n",
    "print(request)"
   ]
  },
  {
   "cell_type": "markdown",
   "id": "6baee96b",
   "metadata": {},
   "source": [
    "# Filtrer les Valeurs\n",
    "### - Ecrire une requête SQL qui retourne les min et max des colonnes suivantes (pour les quelles la colonne population est inférieur à 2 milliards et supérieur à 0) : population, population_growth, birth_rate, death_rate.\n",
    "### - Assigner les résultats aux variables correspondantes suivantes: pop_min, pop_max, pop_growth_min, pop_growth_max, birth_rate_min, birth_rate_max, death_rate_min, death_rate_max."
   ]
  },
  {
   "cell_type": "code",
   "execution_count": 13,
   "id": "1bba275d",
   "metadata": {},
   "outputs": [
    {
     "name": "stdout",
     "output_type": "stream",
     "text": [
      "   pop_min  pop_growth_min  birth_rate_min  death_rate_min\n",
      "0       48             0.0            6.65            1.53\n",
      "-------------------------------------------------------------------------------------\n",
      "      pop_max  pop_growth_max  birth_rate_max  death_rate_max\n",
      "0  1367485388            4.02           45.45           14.89\n"
     ]
    }
   ],
   "source": [
    "# Valeurs min\n",
    "request_min = pd.read_sql_query('select min(population) as pop_min, min(population_growth) as pop_growth_min, min(birth_rate) as birth_rate_min, min(death_rate) as death_rate_min from facts where population>0 and population < 2000000000;', con = connexion)\n",
    "print(request_min)\n",
    "print('-------------------------------------------------------------------------------------')\n",
    "# Valeurs max\n",
    "request_max = pd.read_sql_query('select max(population) as pop_max, max(population_growth) as pop_growth_max, max(birth_rate) as birth_rate_max, max(death_rate) as death_rate_max from facts where population>0 and population < 2000000000;', con = connexion)\n",
    "print(request_max)"
   ]
  },
  {
   "cell_type": "markdown",
   "id": "43af057e",
   "metadata": {},
   "source": [
    "# Prédire la future croissance démographique\n",
    "\n",
    "### - Retourner les valeurs de la population estimée l'année suivante en prenant en compte les remarques suivantes :\n",
    "#### . Arrondir les valeurs à l'entier près (valeurs non décimales).\n",
    "#### . Filtrer les lignes qui contiennent des valeurs NULL comme valeur pour les colonnes population ou population_growth(population is not null)\n",
    "#### . Restreindre la requête aux pays ayant une population inférieur à 7 milliards et supérieur à 0\n",
    "### - Assigner les résultats à la variable projected_population\n",
    "### - Afficher les 10 premières valeurs du résultat."
   ]
  },
  {
   "cell_type": "code",
   "execution_count": 46,
   "id": "d6d83d3d",
   "metadata": {},
   "outputs": [
    {
     "name": "stdout",
     "output_type": "stream",
     "text": [
      "[(33319835.0,), (3038366.0,), (40269742.0,), (85683.0,), (20170938.0,), (93582.0,), (43835803.0,), (3060967.0,), (22994450.0,), (8713211.0,)]\n"
     ]
    }
   ],
   "source": [
    "# Valeur de la population estimée à l'année suivante (population + (population*(population_growth/100)\n",
    "# filtrer les lignes qui contiennent des valeurs null comme valeur pour les colonnes population ou population_growth(population is not null)(where population is not null or population_growth is not null)\n",
    "# Restreindre la requête (where population>0 and population<7000000000)\n",
    "projected_population = connexion.execute(\"select round(population + population*(population_growth/100),0) from facts where population>0 and population<7000000000 and population is not null or population_growth is not null;\").fetchall()\n",
    "\n",
    "print(projected_population[0:10])"
   ]
  },
  {
   "cell_type": "markdown",
   "id": "34ab1ee1",
   "metadata": {},
   "source": [
    "# Explorer plus d'estimation démographiques\n",
    "### - Ecrire une requête SQL qui retourne:\n",
    "#### . La Valeur min de l'estimation de la population et l'assigner à la variable pop_proj_min.\n",
    "#### . La valeur max de l'estimation de la population et l'assigner à la variable pop_proj_max.\n",
    "#### . La valeur moyenne de l'estimation de la population et l'assigner à la variable pop_proj_avg.\n",
    "### - Afficher les résultats"
   ]
  },
  {
   "cell_type": "code",
   "execution_count": 60,
   "id": "e5ea38bf",
   "metadata": {},
   "outputs": [
    {
     "name": "stdout",
     "output_type": "stream",
     "text": [
      "Estimation population minimum : 48.0\n",
      "Estimation population Maximun : 7334860103.0\n",
      "Estimation population moyenne : 64343836.381355934\n"
     ]
    }
   ],
   "source": [
    "# Valeur min de l'estimation de la population\n",
    "pop_proj_min = connexion.execute(\"select min(round(population + population*(population_growth/100),0)) from facts where population>0 and population<7000000000 and population is not null or population_growth is not null;\").fetchall()\n",
    "# Valeur max de l'estimation de la population\n",
    "pop_proj_max = connexion.execute(\"select max(round(population + population*(population_growth/100),0)) from facts where population>0 and population<7000000000 and population is not null or population_growth is not null;\").fetchall()\n",
    "# Valeur moyenne de l'estimation de la population\n",
    "pop_proj_avg = connexion.execute(\"select avg(round(population + population*(population_growth/100),0)) from facts where population>0 and population<7000000000 and population is not null or population_growth is not null;\").fetchall()\n",
    "\n",
    "\n",
    "# Affichage des résultats\n",
    "print(\"Estimation population minimum :\",pop_proj_min[0][0])\n",
    "print(\"Estimation population Maximun :\",pop_proj_max[0][0])\n",
    "print(\"Estimation population moyenne :\",pop_proj_avg[0][0])\n"
   ]
  },
  {
   "cell_type": "code",
   "execution_count": null,
   "id": "a7c66d5b",
   "metadata": {},
   "outputs": [],
   "source": []
  }
 ],
 "metadata": {
  "kernelspec": {
   "display_name": "Python 3 (ipykernel)",
   "language": "python",
   "name": "python3"
  },
  "language_info": {
   "codemirror_mode": {
    "name": "ipython",
    "version": 3
   },
   "file_extension": ".py",
   "mimetype": "text/x-python",
   "name": "python",
   "nbconvert_exporter": "python",
   "pygments_lexer": "ipython3",
   "version": "3.9.7"
  }
 },
 "nbformat": 4,
 "nbformat_minor": 5
}
